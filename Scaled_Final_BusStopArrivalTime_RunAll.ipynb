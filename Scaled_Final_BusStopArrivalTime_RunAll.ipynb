{
 "cells": [
  {
   "cell_type": "code",
   "execution_count": 1,
   "metadata": {
    "collapsed": false,
    "scrolled": true
   },
   "outputs": [
    {
     "data": {
      "text/plain": [
       "<pyspark.context.SparkContext at 0x7fcb40149e10>"
      ]
     },
     "execution_count": 1,
     "metadata": {},
     "output_type": "execute_result"
    }
   ],
   "source": [
    "sc"
   ]
  },
  {
   "cell_type": "code",
   "execution_count": 2,
   "metadata": {
    "collapsed": true
   },
   "outputs": [],
   "source": [
    "scheduleNo=3037"
   ]
  },
  {
   "cell_type": "code",
   "execution_count": 3,
   "metadata": {
    "collapsed": false
   },
   "outputs": [],
   "source": [
    "strYear=\"2016\"\n",
    "strMonth=\"09\"\n",
    "strDay=\"01\""
   ]
  },
  {
   "cell_type": "code",
   "execution_count": 4,
   "metadata": {
    "collapsed": false
   },
   "outputs": [
    {
     "data": {
      "text/plain": [
       "'20160901'"
      ]
     },
     "execution_count": 4,
     "metadata": {},
     "output_type": "execute_result"
    }
   ],
   "source": [
    "dateLit=strYear+strMonth+strDay\n",
    "dateLit"
   ]
  },
  {
   "cell_type": "code",
   "execution_count": 5,
   "metadata": {
    "collapsed": false
   },
   "outputs": [
    {
     "data": {
      "text/plain": [
       "'2016-09-01'"
      ]
     },
     "execution_count": 5,
     "metadata": {},
     "output_type": "execute_result"
    }
   ],
   "source": [
    "dateHyphen=strYear+\"-\"+strMonth+\"-\"+strDay\n",
    "dateHyphen"
   ]
  },
  {
   "cell_type": "code",
   "execution_count": 6,
   "metadata": {
    "collapsed": false
   },
   "outputs": [
    {
     "data": {
      "text/plain": [
       "'Sep2016'"
      ]
     },
     "execution_count": 6,
     "metadata": {},
     "output_type": "execute_result"
    }
   ],
   "source": [
    "monthLit= \"Sep\"+strYear\n",
    "monthLit"
   ]
  },
  {
   "cell_type": "code",
   "execution_count": 7,
   "metadata": {
    "collapsed": false
   },
   "outputs": [],
   "source": [
    "queryYear = int(strYear)\n",
    "queryMonth = int(strMonth)\n",
    "queryDay = int(strDay)"
   ]
  },
  {
   "cell_type": "code",
   "execution_count": 8,
   "metadata": {
    "collapsed": false
   },
   "outputs": [
    {
     "data": {
      "text/plain": [
       "2016"
      ]
     },
     "execution_count": 8,
     "metadata": {},
     "output_type": "execute_result"
    }
   ],
   "source": [
    "queryYear"
   ]
  },
  {
   "cell_type": "code",
   "execution_count": 9,
   "metadata": {
    "collapsed": false
   },
   "outputs": [
    {
     "data": {
      "text/plain": [
       "9"
      ]
     },
     "execution_count": 9,
     "metadata": {},
     "output_type": "execute_result"
    }
   ],
   "source": [
    "queryMonth"
   ]
  },
  {
   "cell_type": "code",
   "execution_count": 10,
   "metadata": {
    "collapsed": false
   },
   "outputs": [
    {
     "data": {
      "text/plain": [
       "1"
      ]
     },
     "execution_count": 10,
     "metadata": {},
     "output_type": "execute_result"
    }
   ],
   "source": [
    "queryDay"
   ]
  },
  {
   "cell_type": "markdown",
   "metadata": {},
   "source": [
    "### Load the bus stop table having geo location"
   ]
  },
  {
   "cell_type": "code",
   "execution_count": 11,
   "metadata": {
    "collapsed": false,
    "scrolled": true
   },
   "outputs": [
    {
     "name": "stdout",
     "output_type": "stream",
     "text": [
      "+----------------------+-----------+\n",
      "|tableName             |isTemporary|\n",
      "+----------------------+-----------+\n",
      "|vts_data_sept         |false      |\n",
      "|vts_parse_data        |false      |\n",
      "|vts_parse_data_1      |false      |\n",
      "|vts_parse_data_parquet|false      |\n",
      "+----------------------+-----------+\n",
      "\n"
     ]
    }
   ],
   "source": [
    "sqlContext.sql(\"use bmtcvts\")\n",
    "sqlContext.sql(\"show tables\").show(10, truncate=False)"
   ]
  },
  {
   "cell_type": "code",
   "execution_count": 14,
   "metadata": {
    "collapsed": false
   },
   "outputs": [],
   "source": [
    "vts_df = sqlContext.sql(\"select id,device_id,acc_distance,\\\n",
    "                                lat,longitude,\\\n",
    "                                ist_date,ign_status,\\\n",
    "                                vehicle_direction, speed_kmph\\\n",
    "                        from vts_parse_data_parquet\")"
   ]
  },
  {
   "cell_type": "code",
   "execution_count": 16,
   "metadata": {
    "collapsed": true
   },
   "outputs": [],
   "source": [
    "# Remove the corrupted Lat and Long values\n",
    "filtered_vts_df = vts_df.where((vts_df.lat != 0) & (vts_df.longitude != 0) & (vts_df.ign_status == 1))"
   ]
  },
  {
   "cell_type": "markdown",
   "metadata": {},
   "source": [
    "### Algorithm outline for calculating bus stop matrix having average time taken between bus stops\n",
    "\n",
    "1) Source WayBill_Trip_Details table<br>\n",
    "2) Get distinct device_id and route_id combination from WayBill_Trip_Details table <br>\n",
    "3) Select the bus Stops for the route_id from the Route_Point table and get the distinct device id-bus stop combination <br>\n",
    "4) Attach the bus stop lat long values with device id-bus stop by joining with bus stop table  <br>\n",
    "5) Join dataframe in step 3 with Vts_Parse_Data table based on device id. <br>\n",
    "6) After step 5, we would be having lat long values of bus entering the geo fence of the bus stop <br>\n",
    "7) Calculate the average time between bus stops for this route <br>\n",
    "8) Similarly do for all the routes<br>\n",
    "9) Finally make a bus stop matrix<br>\n",
    "10) 24(hours)X7(days)X12(months) such matrix should be formed<br>"
   ]
  },
  {
   "cell_type": "markdown",
   "metadata": {},
   "source": [
    "### 1) Source WayBill_Trip_Details table"
   ]
  },
  {
   "cell_type": "code",
   "execution_count": 23,
   "metadata": {
    "collapsed": false
   },
   "outputs": [],
   "source": [
    "import datetime\n",
    "from pyspark.sql.functions import year, month, dayofmonth\n",
    "\n",
    "sqlContext.sql(\"use bmtc\")\n",
    "waybill_trip_details_df = sqlContext.sql(\"select id,waybill_id,duty_dt,device_id,\\\n",
    "                                          status,schedule_type_id,\\\n",
    "                                          schedule_no,schedule_name,service_type,service_name,\\\n",
    "                                          trip_number,trip_status,start_point,start_bus_stop_name,\\\n",
    "                                          end_point,end_bus_stop_name,route_id,route_no,\\\n",
    "                                          distance,start_time,\\\n",
    "                                          act_start_time,etm_start_time,end_time,act_end_time,\\\n",
    "                                          etm_end_time,running_time,vehicle_no,duty_start_date, is_dread_trip \\\n",
    "                                          from waybill_trip_details\")\n",
    "waybill_trip_details_df = waybill_trip_details_df.withColumnRenamed(\"device_id\",\"device_id_waybill\")\n",
    "waybill_trip_details_df = waybill_trip_details_df.withColumnRenamed(\"route_id\",\"route_id_waybill\")\n"
   ]
  },
  {
   "cell_type": "markdown",
   "metadata": {},
   "source": [
    "### Filter data from waybill_trip_details for 1 Day"
   ]
  },
  {
   "cell_type": "code",
   "execution_count": 18,
   "metadata": {
    "collapsed": true
   },
   "outputs": [],
   "source": [
    "from pyspark.sql.functions import col,unix_timestamp,abs, from_unixtime, avg, count, sum, desc, date_format, lit, concat"
   ]
  },
  {
   "cell_type": "code",
   "execution_count": 24,
   "metadata": {
    "collapsed": false
   },
   "outputs": [],
   "source": [
    "# waybill trip details by duty date for september 01\n",
    "waybill_trip_details_selected_df = waybill_trip_details_df.filter((year(waybill_trip_details_df.etm_start_time) == queryYear) & \\\n",
    "                                                              (month(waybill_trip_details_df.etm_start_time)==queryMonth) & \\\n",
    "                                                              (dayofmonth(waybill_trip_details_df.etm_start_time)==queryDay))"
   ]
  },
  {
   "cell_type": "markdown",
   "metadata": {},
   "source": [
    "### Filter data from waybill_trip_details for the given schedule"
   ]
  },
  {
   "cell_type": "code",
   "execution_count": 21,
   "metadata": {
    "collapsed": false
   },
   "outputs": [],
   "source": [
    "waybill_trip_details_selected_df = waybill_trip_details_selected_df.where((col(\"status\") != \"NEW\") \\\n",
    "                                                                          & (col(\"status\") != \"325-703-380\") \\\n",
    "                                                                          & (col(\"status\") != \"325-703-3144\") \\\n",
    "                                                                          & (col(\"status\") != \"325-703-560\") \\\n",
    "                                                                          & (col(\"status\") != \"325-702-741\") \\\n",
    "                                                                          & (col(\"status\") != \"325-702-835\"))"
   ]
  },
  {
   "cell_type": "code",
   "execution_count": 76,
   "metadata": {
    "collapsed": false
   },
   "outputs": [],
   "source": [
    "waybill_trip_details_selected_df = waybill_trip_details_selected_df.filter(col(\"schedule_no\")==scheduleNo)"
   ]
  },
  {
   "cell_type": "code",
   "execution_count": 77,
   "metadata": {
    "collapsed": false
   },
   "outputs": [],
   "source": [
    "waybill_trip_details_selected_df = waybill_trip_details_selected_df\\\n",
    "                            .select(\"id\",\"waybill_id\",\"duty_dt\",\"device_id_waybill\",\\\n",
    "                                 \"schedule_no\",\"route_id_waybill\",\"trip_number\", \"is_dread_trip\", \\\n",
    "                                 \"start_time\", \"end_time\", \"act_start_time\", \"act_end_time\", \"etm_start_time\", \"etm_end_time\", \\\n",
    "                                   \"start_point\", \"end_point\")"
   ]
  },
  {
   "cell_type": "markdown",
   "metadata": {},
   "source": [
    "### Find the time window for the route from waybill_trip_details table"
   ]
  },
  {
   "cell_type": "code",
   "execution_count": 78,
   "metadata": {
    "collapsed": false
   },
   "outputs": [],
   "source": [
    "timeFmt = \"HH:mm:ss\"\n",
    "timeDiff= abs(unix_timestamp('end_time', format=timeFmt)\\\n",
    "            - unix_timestamp('start_time', format=timeFmt))\n",
    "endTimeLimit=from_unixtime(unix_timestamp('end_time', format=timeFmt)\\\n",
    "                           + timeDiff, format=timeFmt)"
   ]
  },
  {
   "cell_type": "code",
   "execution_count": 79,
   "metadata": {
    "collapsed": true
   },
   "outputs": [],
   "source": [
    "dateTimeFmt = \"yyyy-MM-dd HH:mm:ss.S\"\n",
    "dateTimeFmt1 = \"yyyy-MM-dd\"\n",
    "timestampFormat = \"HH:mm:ss\"\n",
    "etm_start_time_date_part=from_unixtime(unix_timestamp('etm_start_time', format=dateTimeFmt), format=dateTimeFmt1)\n",
    "etm_start_time_timestamp_part=from_unixtime(unix_timestamp('etm_start_time', format=dateTimeFmt), format=timestampFormat)\n",
    "etm_end_time_timestamp_part=from_unixtime(unix_timestamp('etm_end_time', format=dateTimeFmt), format=timestampFormat)"
   ]
  },
  {
   "cell_type": "markdown",
   "metadata": {},
   "source": [
    "### Define the window limit as (startTime, (endTime + (endTime-startTime)))\n",
    "#### This is done to factor in any delays in trip completion. Assumption is that a trip will be completed atleast in twice the time that it is supposed to take. "
   ]
  },
  {
   "cell_type": "code",
   "execution_count": 80,
   "metadata": {
    "collapsed": false
   },
   "outputs": [],
   "source": [
    "waybill_trip_details_selected_df=waybill_trip_details_selected_df.withColumn(\"end_time_limit\", endTimeLimit)\n",
    "waybill_trip_details_selected_df=waybill_trip_details_selected_df.withColumn(\"business_date\", etm_start_time_date_part)"
   ]
  },
  {
   "cell_type": "code",
   "execution_count": 81,
   "metadata": {
    "collapsed": true
   },
   "outputs": [],
   "source": [
    "waybill_trip_details_selected_df=waybill_trip_details_selected_df.withColumn(\"etm_start_timestamp\", etm_start_time_timestamp_part)\n",
    "waybill_trip_details_selected_df=waybill_trip_details_selected_df.withColumn(\"etm_end_timestamp\", etm_end_time_timestamp_part)"
   ]
  },
  {
   "cell_type": "code",
   "execution_count": 82,
   "metadata": {
    "collapsed": false
   },
   "outputs": [],
   "source": [
    "sqlContext.registerDataFrameAsTable(waybill_trip_details_selected_df, \"way_bill_data_table\")\n",
    "windowQuery = \"\"\"SELECT id, waybill_id, duty_dt, device_id_waybill, schedule_no, route_id_waybill, trip_number,\n",
    "is_dread_trip, start_point, end_point,\n",
    "concat(business_date,\" \",(CASE \n",
    "    WHEN (act_start_time == 'null' or act_start_time == '00:00:00'\n",
    "        or act_end_time == 'null' or act_end_time == '00:00:00' or act_start_time > act_end_time) \n",
    "    THEN etm_start_timestamp \n",
    "    ELSE act_start_time \n",
    "END)) as window_start_time,\n",
    "concat(business_date,\" \",(CASE \n",
    "    WHEN (act_start_time == 'null' or act_start_time == '00:00:00'\n",
    "        or act_end_time == 'null' or act_end_time == '00:00:00' or act_start_time > act_end_time) \n",
    "    THEN etm_end_timestamp \n",
    "    ELSE act_end_time\n",
    "END)) as window_end_time\n",
    "FROM way_bill_data_table\"\"\"\n",
    "waybill_trip_details_sample_df = sqlContext.sql(windowQuery)"
   ]
  },
  {
   "cell_type": "code",
   "execution_count": 83,
   "metadata": {
    "collapsed": false
   },
   "outputs": [],
   "source": [
    "windowStartTimeFmt1 = \"yyyy-MM-dd HH:mm:ss\"\n",
    "windowExtension1=900\n",
    "windowExtensionFunction1=from_unixtime(unix_timestamp(\"window_end_time\", format=windowStartTimeFmt1)\\\n",
    "                           + windowExtension1, format=windowStartTimeFmt1)"
   ]
  },
  {
   "cell_type": "code",
   "execution_count": 84,
   "metadata": {
    "collapsed": true
   },
   "outputs": [],
   "source": [
    "waybill_trip_details_sample_df= waybill_trip_details_sample_df.withColumn(\"window_end_time\",windowExtensionFunction1)"
   ]
  },
  {
   "cell_type": "markdown",
   "metadata": {
    "collapsed": false
   },
   "source": [
    "### Filter data from vts_parse_data table for 1 day"
   ]
  },
  {
   "cell_type": "code",
   "execution_count": 85,
   "metadata": {
    "collapsed": false
   },
   "outputs": [],
   "source": [
    "vts_sample_df = filtered_vts_df.filter((year(filtered_vts_df.ist_date) == queryYear) & \\\n",
    "                                     (month(filtered_vts_df.ist_date) == queryMonth) & \\\n",
    "                                     (dayofmonth(filtered_vts_df.ist_date)==queryDay))"
   ]
  },
  {
   "cell_type": "markdown",
   "metadata": {},
   "source": [
    "### 2) Get distinct device_id and route_id combination from WayBill_Trip_Details table"
   ]
  },
  {
   "cell_type": "code",
   "execution_count": 86,
   "metadata": {
    "collapsed": false
   },
   "outputs": [],
   "source": [
    "sqlContext.sql(\"use bmtc\")\n",
    "route_point_df = sqlContext.sql(\"select * from route_point\")"
   ]
  },
  {
   "cell_type": "code",
   "execution_count": 87,
   "metadata": {
    "collapsed": false,
    "scrolled": false
   },
   "outputs": [],
   "source": [
    "waybill_device_id_route_id_df = waybill_trip_details_sample_df.select(waybill_trip_details_sample_df.device_id_waybill,\\\n",
    "                                                                     waybill_trip_details_sample_df.schedule_no,\\\n",
    "                                                                     waybill_trip_details_sample_df.trip_number,\\\n",
    "                                                                     waybill_trip_details_sample_df.route_id_waybill,\\\n",
    "                                                                     waybill_trip_details_sample_df.window_start_time,\\\n",
    "                                                                     waybill_trip_details_sample_df.window_end_time,\\\n",
    "                                                                     waybill_trip_details_sample_df.is_dread_trip,\\\n",
    "                                                                     waybill_trip_details_sample_df.start_point,\\\n",
    "                                                                     waybill_trip_details_sample_df.end_point)"
   ]
  },
  {
   "cell_type": "markdown",
   "metadata": {},
   "source": [
    "### Use EOD as Window End Time to track the bus for trip 11 and 12"
   ]
  },
  {
   "cell_type": "code",
   "execution_count": 88,
   "metadata": {
    "collapsed": false,
    "scrolled": true
   },
   "outputs": [],
   "source": [
    "##waybill_device_id_route_id_df.orderBy(\"trip_number\").show(20, truncate=False)"
   ]
  },
  {
   "cell_type": "code",
   "execution_count": 89,
   "metadata": {
    "collapsed": false
   },
   "outputs": [],
   "source": [
    "##valid_window_waybill_device_id_route_id_df=waybill_device_id_route_id_df.filter(col(\"trip_number\") < 11)"
   ]
  },
  {
   "cell_type": "code",
   "execution_count": 90,
   "metadata": {
    "collapsed": false
   },
   "outputs": [],
   "source": [
    "##till_eod_window_waybill_device_id_route_id_df= waybill_device_id_route_id_df.filter(col(\"trip_number\") >= 11)\\\n",
    "   ##                     .withColumn(\"window_end_time\",lit(dateHyphen+\" 23:59:59\"))"
   ]
  },
  {
   "cell_type": "code",
   "execution_count": 91,
   "metadata": {
    "collapsed": true
   },
   "outputs": [],
   "source": [
    "##last_valid_window_waybill_device_id_route_id_df=waybill_device_id_route_id_df.filter(col(\"trip_number\") == 13)"
   ]
  },
  {
   "cell_type": "code",
   "execution_count": 92,
   "metadata": {
    "collapsed": true
   },
   "outputs": [],
   "source": [
    "resultant_waybill_device_id_route_id_df=waybill_device_id_route_id_df"
   ]
  },
  {
   "cell_type": "code",
   "execution_count": 93,
   "metadata": {
    "collapsed": true
   },
   "outputs": [],
   "source": [
    "##resultant_waybill_device_id_route_id_df = valid_window_waybill_device_id_route_id_df.unionAll(till_eod_window_waybill_device_id_route_id_df)\\\n",
    "##.orderBy(\"trip_number\")\n",
    "##.unionAll(last_valid_window_waybill_device_id_route_id_df)"
   ]
  },
  {
   "cell_type": "code",
   "execution_count": 94,
   "metadata": {
    "collapsed": false
   },
   "outputs": [],
   "source": [
    "##resultant_waybill_device_id_route_id_df.orderBy(\"trip_number\").show(20, truncate=False)"
   ]
  },
  {
   "cell_type": "markdown",
   "metadata": {},
   "source": [
    "### 3) Select the bus Stops for the route_id from the Route_Point table and get the distinct device id-bus stop combination"
   ]
  },
  {
   "cell_type": "code",
   "execution_count": 95,
   "metadata": {
    "collapsed": true
   },
   "outputs": [],
   "source": [
    "resultant_waybill_device_id_route_id_start_df = resultant_waybill_device_id_route_id_df.join(route_point_df, \n",
    "                ((resultant_waybill_device_id_route_id_df.route_id_waybill == route_point_df.route_id)\n",
    "                 & (resultant_waybill_device_id_route_id_df.start_point == route_point_df.bus_stop_id)),\"left_outer\")\\\n",
    "               .select(\"device_id_waybill\", \"schedule_no\", \"trip_number\", \"route_id_waybill\",\\\n",
    "                \"window_start_time\", \"window_end_time\", \"is_dread_trip\", \"start_point\", \"end_point\", \"route_order\")\\\n",
    "              .withColumnRenamed(\"route_order\",\"start_route_order\") "
   ]
  },
  {
   "cell_type": "code",
   "execution_count": 96,
   "metadata": {
    "collapsed": true
   },
   "outputs": [],
   "source": [
    "resultant_waybill_device_id_route_id_start_end_df = resultant_waybill_device_id_route_id_start_df.join(route_point_df, \n",
    "                ((resultant_waybill_device_id_route_id_start_df.route_id_waybill == route_point_df.route_id)\n",
    "                 & (resultant_waybill_device_id_route_id_start_df.end_point == route_point_df.bus_stop_id)),\"left_outer\")\\\n",
    "                .select(\"device_id_waybill\", \"schedule_no\", \"trip_number\", \"route_id_waybill\",\\\n",
    "                \"window_start_time\", \"window_end_time\", \"is_dread_trip\", \"start_point\", \"end_point\",\\\n",
    "                \"start_route_order\", \"route_order\")\\\n",
    "                .withColumnRenamed(\"route_order\",\"end_route_order\") "
   ]
  },
  {
   "cell_type": "code",
   "execution_count": 97,
   "metadata": {
    "collapsed": true
   },
   "outputs": [],
   "source": [
    "waybill_device_id_route_id_bus_stop_id_df =resultant_waybill_device_id_route_id_start_end_df.join(route_point_df, \\\n",
    "              (resultant_waybill_device_id_route_id_start_end_df.route_id_waybill == route_point_df.route_id), \"left_outer\")"
   ]
  },
  {
   "cell_type": "code",
   "execution_count": 98,
   "metadata": {
    "collapsed": true
   },
   "outputs": [],
   "source": [
    "waybill_device_id_route_id_bus_stop_id_df=waybill_device_id_route_id_bus_stop_id_df\\\n",
    "                                                .filter((col(\"route_order\") >= col(\"start_route_order\"))\\\n",
    "                                                 & (col(\"route_order\") <= col(\"end_route_order\")))"
   ]
  },
  {
   "cell_type": "code",
   "execution_count": 99,
   "metadata": {
    "collapsed": false,
    "scrolled": true
   },
   "outputs": [],
   "source": [
    "waybill_device_id_bus_stop_id_df= waybill_device_id_route_id_bus_stop_id_df.select(\\\n",
    "    \"device_id_waybill\", \"schedule_no\",\"trip_number\", \"route_id_waybill\", \"bus_stop_id\", \"route_order\",\\\n",
    "             \"window_start_time\", \"window_end_time\", \"is_dread_trip\", \"start_route_order\", \"end_route_order\")"
   ]
  },
  {
   "cell_type": "code",
   "execution_count": 100,
   "metadata": {
    "collapsed": false
   },
   "outputs": [],
   "source": [
    "waybill_device_id_bus_stop_id_df = waybill_device_id_bus_stop_id_df.withColumnRenamed(\"bus_stop_id\", \"route_bus_stop_id\")"
   ]
  },
  {
   "cell_type": "markdown",
   "metadata": {},
   "source": [
    "### Populate distance and time_to_travel from route_map table "
   ]
  },
  {
   "cell_type": "code",
   "execution_count": 101,
   "metadata": {
    "collapsed": true
   },
   "outputs": [],
   "source": [
    "route_map_df = sqlContext.sql(\"select * from route_map\").select(\"route_id\", \"end_bus_stop_id\", \"bus_stop_order\", \"distance\", \"time_to_travel\")"
   ]
  },
  {
   "cell_type": "code",
   "execution_count": 102,
   "metadata": {
    "collapsed": false
   },
   "outputs": [
    {
     "name": "stdout",
     "output_type": "stream",
     "text": [
      "root\n",
      " |-- route_id: integer (nullable = true)\n",
      " |-- end_bus_stop_id: integer (nullable = true)\n",
      " |-- bus_stop_order: integer (nullable = true)\n",
      " |-- distance: integer (nullable = true)\n",
      " |-- time_to_travel: integer (nullable = true)\n",
      "\n"
     ]
    }
   ],
   "source": [
    "route_map_df.printSchema()"
   ]
  },
  {
   "cell_type": "markdown",
   "metadata": {},
   "source": [
    "#### Populate distance and time_to_travel as 0 for start_bus_stop in a route "
   ]
  },
  {
   "cell_type": "code",
   "execution_count": 103,
   "metadata": {
    "collapsed": true
   },
   "outputs": [],
   "source": [
    "route_start_bus_stop_df = waybill_device_id_bus_stop_id_df.where(col(\"route_order\") == col(\"start_route_order\"))"
   ]
  },
  {
   "cell_type": "code",
   "execution_count": 104,
   "metadata": {
    "collapsed": false
   },
   "outputs": [],
   "source": [
    "route_start_bus_stop_df=route_start_bus_stop_df.withColumn(\"distance\", lit(0))\n",
    "route_start_bus_stop_df=route_start_bus_stop_df.withColumn(\"time_to_travel\", lit(0))"
   ]
  },
  {
   "cell_type": "code",
   "execution_count": 105,
   "metadata": {
    "collapsed": false
   },
   "outputs": [
    {
     "name": "stdout",
     "output_type": "stream",
     "text": [
      "root\n",
      " |-- device_id_waybill: string (nullable = true)\n",
      " |-- schedule_no: long (nullable = true)\n",
      " |-- trip_number: integer (nullable = true)\n",
      " |-- route_id_waybill: integer (nullable = true)\n",
      " |-- route_bus_stop_id: integer (nullable = true)\n",
      " |-- route_order: integer (nullable = true)\n",
      " |-- window_start_time: string (nullable = true)\n",
      " |-- window_end_time: string (nullable = true)\n",
      " |-- is_dread_trip: integer (nullable = true)\n",
      " |-- start_route_order: integer (nullable = true)\n",
      " |-- end_route_order: integer (nullable = true)\n",
      " |-- distance: integer (nullable = false)\n",
      " |-- time_to_travel: integer (nullable = false)\n",
      "\n"
     ]
    }
   ],
   "source": [
    "route_start_bus_stop_df.printSchema()"
   ]
  },
  {
   "cell_type": "markdown",
   "metadata": {},
   "source": [
    "#### Joining with Route_Map for distance and time_to_travel "
   ]
  },
  {
   "cell_type": "code",
   "execution_count": 106,
   "metadata": {
    "collapsed": true
   },
   "outputs": [],
   "source": [
    "route_rest_bus_stop_df = waybill_device_id_bus_stop_id_df.where(col(\"route_order\") != col(\"start_route_order\"))"
   ]
  },
  {
   "cell_type": "code",
   "execution_count": 107,
   "metadata": {
    "collapsed": false
   },
   "outputs": [],
   "source": [
    "mapped_route_rest_bus_stop_df = route_rest_bus_stop_df.join(route_map_df, ((route_rest_bus_stop_df.route_id_waybill == route_map_df.route_id)\\\n",
    "                                           & (route_rest_bus_stop_df.route_bus_stop_id == route_map_df.end_bus_stop_id)),\\\n",
    "                           \"left_outer\").drop(\"route_id\").drop(\"end_bus_stop_id\").drop(\"bus_stop_order\")"
   ]
  },
  {
   "cell_type": "code",
   "execution_count": 108,
   "metadata": {
    "collapsed": true
   },
   "outputs": [],
   "source": [
    "resultant_waybill_device_id_bus_stop_id_df= route_start_bus_stop_df.unionAll(mapped_route_rest_bus_stop_df)"
   ]
  },
  {
   "cell_type": "markdown",
   "metadata": {},
   "source": [
    "### 4) Attach the bus stop lat long values with device id-bus stop by joining with bus stop table"
   ]
  },
  {
   "cell_type": "code",
   "execution_count": 109,
   "metadata": {
    "collapsed": false
   },
   "outputs": [],
   "source": [
    "filter_bus_stop_df = sqlContext.sql(\"select bus_stop_id,bus_stop_code,\\\n",
    "                                            bus_stop_name,latitude_current,\\\n",
    "                                            longitude_current,bearing \\\n",
    "                                    from bus_stop\")"
   ]
  },
  {
   "cell_type": "code",
   "execution_count": 110,
   "metadata": {
    "collapsed": false,
    "scrolled": true
   },
   "outputs": [],
   "source": [
    "inscope_filter_bus_stop_with_dread_trip_df =  resultant_waybill_device_id_bus_stop_id_df.join(filter_bus_stop_df,\\\n",
    "                             resultant_waybill_device_id_bus_stop_id_df.route_bus_stop_id == filter_bus_stop_df.bus_stop_id,\\\n",
    "                             \"left_outer\").drop(\"bus_stop_id\").drop(\"start_route_order\").drop(\"end_route_order\")"
   ]
  },
  {
   "cell_type": "code",
   "execution_count": 111,
   "metadata": {
    "collapsed": false
   },
   "outputs": [
    {
     "name": "stdout",
     "output_type": "stream",
     "text": [
      "root\n",
      " |-- id: long (nullable = true)\n",
      " |-- device_id: string (nullable = true)\n",
      " |-- acc_distance: string (nullable = true)\n",
      " |-- lat: double (nullable = true)\n",
      " |-- longitude: double (nullable = true)\n",
      " |-- vehicle_direction: string (nullable = true)\n",
      " |-- ist_date: string (nullable = true)\n",
      " |-- ign_status: byte (nullable = true)\n",
      " |-- speed_kmph: double (nullable = true)\n",
      "\n"
     ]
    }
   ],
   "source": [
    "vts_sample_df.printSchema()"
   ]
  },
  {
   "cell_type": "code",
   "execution_count": 112,
   "metadata": {
    "collapsed": false
   },
   "outputs": [
    {
     "name": "stdout",
     "output_type": "stream",
     "text": [
      "root\n",
      " |-- device_id_waybill: string (nullable = true)\n",
      " |-- schedule_no: long (nullable = true)\n",
      " |-- trip_number: integer (nullable = true)\n",
      " |-- route_id_waybill: integer (nullable = true)\n",
      " |-- route_bus_stop_id: integer (nullable = true)\n",
      " |-- route_order: integer (nullable = true)\n",
      " |-- window_start_time: string (nullable = true)\n",
      " |-- window_end_time: string (nullable = true)\n",
      " |-- is_dread_trip: integer (nullable = true)\n",
      " |-- distance: integer (nullable = true)\n",
      " |-- time_to_travel: integer (nullable = true)\n",
      " |-- bus_stop_code: string (nullable = true)\n",
      " |-- bus_stop_name: string (nullable = true)\n",
      " |-- latitude_current: double (nullable = true)\n",
      " |-- longitude_current: double (nullable = true)\n",
      " |-- bearing: string (nullable = true)\n",
      "\n"
     ]
    }
   ],
   "source": [
    "inscope_filter_bus_stop_with_dread_trip_df.printSchema()"
   ]
  },
  {
   "cell_type": "code",
   "execution_count": 113,
   "metadata": {
    "collapsed": false
   },
   "outputs": [],
   "source": [
    "inscope_filter_bus_stop_with_dread_trip_df=inscope_filter_bus_stop_with_dread_trip_df.select(\"device_id_waybill\", \"schedule_no\",\"trip_number\",\\\n",
    "                                                             \"route_id_waybill\", \"route_bus_stop_id\", \"route_order\",\\\n",
    "                                                             \"window_start_time\",\"window_end_time\",\\\n",
    "                                                             \"latitude_current\", \"longitude_current\", \\\n",
    "                                                             \"bus_stop_name\", \"is_dread_trip\", \\\n",
    "                                                              \"distance\", \"time_to_travel\")"
   ]
  },
  {
   "cell_type": "markdown",
   "metadata": {},
   "source": [
    "### Removing the dread trips"
   ]
  },
  {
   "cell_type": "code",
   "execution_count": 114,
   "metadata": {
    "collapsed": true
   },
   "outputs": [],
   "source": [
    "inscope_filter_bus_stop_df= inscope_filter_bus_stop_with_dread_trip_df.where(col(\"is_dread_trip\") ==0)"
   ]
  },
  {
   "cell_type": "code",
   "execution_count": 115,
   "metadata": {
    "collapsed": false
   },
   "outputs": [],
   "source": [
    "timeFmt_Ist = \"yyyy-MM-dd HH:mm:ss.S\"\n",
    "timeFmt1 = \"yyyy-MM-dd HH:mm:ss\"\n",
    "istDateTrunc=from_unixtime(unix_timestamp('ist_date', format=timeFmt_Ist), format=timeFmt1)"
   ]
  },
  {
   "cell_type": "code",
   "execution_count": 116,
   "metadata": {
    "collapsed": false
   },
   "outputs": [],
   "source": [
    "vts_sample_df=vts_sample_df.withColumn(\"ist_timestamp\", istDateTrunc)"
   ]
  },
  {
   "cell_type": "markdown",
   "metadata": {},
   "source": [
    "## Continue with run for all bus stops for all trips"
   ]
  },
  {
   "cell_type": "markdown",
   "metadata": {},
   "source": [
    "### 5) Join dataframe in step 4 with Vts_Parse_Data table based on device id"
   ]
  },
  {
   "cell_type": "code",
   "execution_count": 117,
   "metadata": {
    "collapsed": true
   },
   "outputs": [],
   "source": [
    "inscope_filter_bus_stop_df = inscope_filter_bus_stop_df.distinct()"
   ]
  },
  {
   "cell_type": "code",
   "execution_count": 118,
   "metadata": {
    "collapsed": false
   },
   "outputs": [],
   "source": [
    "vts_joined_data = inscope_filter_bus_stop_df.join(vts_sample_df,\\\n",
    "                                       inscope_filter_bus_stop_df.device_id_waybill == vts_sample_df.device_id,\\\n",
    "                                     \"left_outer\")"
   ]
  },
  {
   "cell_type": "code",
   "execution_count": 119,
   "metadata": {
    "collapsed": false,
    "scrolled": true
   },
   "outputs": [
    {
     "name": "stdout",
     "output_type": "stream",
     "text": [
      "root\n",
      " |-- device_id_waybill: string (nullable = true)\n",
      " |-- schedule_no: long (nullable = true)\n",
      " |-- trip_number: integer (nullable = true)\n",
      " |-- route_id_waybill: integer (nullable = true)\n",
      " |-- route_bus_stop_id: integer (nullable = true)\n",
      " |-- route_order: integer (nullable = true)\n",
      " |-- window_start_time: string (nullable = true)\n",
      " |-- window_end_time: string (nullable = true)\n",
      " |-- latitude_current: double (nullable = true)\n",
      " |-- longitude_current: double (nullable = true)\n",
      " |-- bus_stop_name: string (nullable = true)\n",
      " |-- is_dread_trip: integer (nullable = true)\n",
      " |-- distance: integer (nullable = true)\n",
      " |-- time_to_travel: integer (nullable = true)\n",
      " |-- id: long (nullable = true)\n",
      " |-- device_id: string (nullable = true)\n",
      " |-- acc_distance: string (nullable = true)\n",
      " |-- lat: double (nullable = true)\n",
      " |-- longitude: double (nullable = true)\n",
      " |-- vehicle_direction: string (nullable = true)\n",
      " |-- ist_date: string (nullable = true)\n",
      " |-- ign_status: byte (nullable = true)\n",
      " |-- speed_kmph: double (nullable = true)\n",
      " |-- ist_timestamp: string (nullable = true)\n",
      "\n"
     ]
    }
   ],
   "source": [
    "vts_joined_data.printSchema()"
   ]
  },
  {
   "cell_type": "markdown",
   "metadata": {},
   "source": [
    "### 6) After step 5, we would be having lat long values of bus entering the geo fence of the bus stop "
   ]
  },
  {
   "cell_type": "code",
   "execution_count": null,
   "metadata": {
    "collapsed": true
   },
   "outputs": [],
   "source": [
    "sqlContext.registerDataFrameAsTable(vts_joined_data, \"vts_Table\")\n",
    "query = \"\"\"SELECT device_id_waybill,schedule_no, trip_number, route_id_waybill, route_bus_stop_id, route_order, \n",
    "window_start_time, window_end_time, ist_date, ist_timestamp, acc_distance, \n",
    "(((acos(sin((latitude_current*pi()/180)) * \n",
    "sin((lat*pi()/180))+cos((latitude_current*pi()/180)) * \n",
    "cos((lat*pi()/180)) * cos(((longitude_current- longitude)* \n",
    "pi()/180))))*180/pi())*60*1.1515)*1000 as dist \n",
    "FROM vts_Table where ist_timestamp >= window_start_time and ist_timestamp <= window_end_time\n",
    "HAVING (dist > 0 AND dist <= 60) order by IST_DATE,route_bus_stop_id\"\"\""
   ]
  },
  {
   "cell_type": "code",
   "execution_count": null,
   "metadata": {
    "collapsed": false
   },
   "outputs": [],
   "source": [
    "sqlContext.sql(query).coalesce(1).write.option(\"header\", \"true\")\\\n",
    "    .csv(\"lalit/bmtc_project/staging/features/\"+dateLit+\"Final_Fix_BusStops\"+\"/etm_start_time_based/windowed_bus_stop_geo_fence_distances\")"
   ]
  },
  {
   "cell_type": "markdown",
   "metadata": {},
   "source": [
    "### Reading the saved geo-fence distance from HDFS"
   ]
  },
  {
   "cell_type": "code",
   "execution_count": 434,
   "metadata": {
    "collapsed": true
   },
   "outputs": [],
   "source": [
    "windowGeoFenceDf = sqlContext.read.option(\"header\", \"true\")\\\n",
    "                .option(\"inferSchema\", \"true\")\\\n",
    "                .csv(\"lalit/bmtc_project/staging/features/\"+dateLit+\"Final_Fix_BusStops\"+\"/etm_start_time_based/windowed_bus_stop_geo_fence_distances\")"
   ]
  },
  {
   "cell_type": "code",
   "execution_count": 435,
   "metadata": {
    "collapsed": false
   },
   "outputs": [
    {
     "data": {
      "text/plain": [
       "1875"
      ]
     },
     "execution_count": 435,
     "metadata": {},
     "output_type": "execute_result"
    }
   ],
   "source": [
    "windowGeoFenceDf.count()"
   ]
  },
  {
   "cell_type": "code",
   "execution_count": 436,
   "metadata": {
    "collapsed": true
   },
   "outputs": [],
   "source": [
    "## Instead of saving the geo-fence data to HDFS and reading it again like in last 2 cells, we can use it directly in-memory.\n",
    "##windowGeoFenceDf=sqlContext.sql(query)"
   ]
  },
  {
   "cell_type": "markdown",
   "metadata": {},
   "source": [
    "### Finding the earliest entry into a bus stop geo-fence by a device"
   ]
  },
  {
   "cell_type": "code",
   "execution_count": 437,
   "metadata": {
    "collapsed": false
   },
   "outputs": [],
   "source": [
    "windowGeoFenceDf=windowGeoFenceDf.withColumn(\"ist_timestamp_seconds\", unix_timestamp(\"ist_timestamp\", format=timeFmt1))"
   ]
  },
  {
   "cell_type": "code",
   "execution_count": 438,
   "metadata": {
    "collapsed": true
   },
   "outputs": [],
   "source": [
    "windowGeoFenceDf= windowGeoFenceDf.withColumnRenamed(\"device_id_waybill\", \"device_id\")\n",
    "windowGeoFenceDf= windowGeoFenceDf.withColumnRenamed(\"route_id_waybill\", \"route_id\")"
   ]
  },
  {
   "cell_type": "code",
   "execution_count": 439,
   "metadata": {
    "collapsed": false,
    "scrolled": true
   },
   "outputs": [],
   "source": [
    "windowEarliestGeoFenceEntryDf=windowGeoFenceDf.groupby(\"device_id\", \"schedule_no\", \"trip_number\", \"route_id\", \"route_bus_stop_id\",\"route_order\", \"window_start_time\", \"window_end_time\").min(\"ist_timestamp_seconds\") \\\n",
    "                             .withColumnRenamed(\"min(ist_timestamp_seconds)\", \"ist_timestamp_seconds\")"
   ]
  },
  {
   "cell_type": "code",
   "execution_count": 440,
   "metadata": {
    "collapsed": false,
    "scrolled": true
   },
   "outputs": [
    {
     "name": "stdout",
     "output_type": "stream",
     "text": [
      "root\n",
      " |-- device_id: integer (nullable = true)\n",
      " |-- schedule_no: integer (nullable = true)\n",
      " |-- trip_number: integer (nullable = true)\n",
      " |-- route_id: integer (nullable = true)\n",
      " |-- route_bus_stop_id: integer (nullable = true)\n",
      " |-- route_order: integer (nullable = true)\n",
      " |-- window_start_time: timestamp (nullable = true)\n",
      " |-- window_end_time: timestamp (nullable = true)\n",
      " |-- ist_timestamp_seconds: long (nullable = true)\n",
      "\n"
     ]
    }
   ],
   "source": [
    "windowEarliestGeoFenceEntryDf.printSchema()"
   ]
  },
  {
   "cell_type": "code",
   "execution_count": 441,
   "metadata": {
    "collapsed": true
   },
   "outputs": [],
   "source": [
    "windowGeoFenceDf= windowGeoFenceDf.withColumnRenamed(\"device_id\", \"device_id_d\")\\\n",
    ".withColumnRenamed(\"route_id\", \"route_id_d\")\\\n",
    ".withColumnRenamed(\"schedule_no\", \"schedule_no_d\")\\\n",
    ".withColumnRenamed(\"trip_number\", \"trip_number_d\")\\\n",
    ".withColumnRenamed(\"route_bus_stop_id\", \"route_bus_stop_id_d\")\\\n",
    ".withColumnRenamed(\"route_order\", \"route_order_d\")\\\n",
    ".withColumnRenamed(\"window_start_time\", \"window_start_time_d\")\\\n",
    ".withColumnRenamed(\"window_end_time\", \"window_end_time_d\")\\\n",
    ".withColumnRenamed(\"ist_timestamp_seconds\", \"ist_timestamp_seconds_d\")"
   ]
  },
  {
   "cell_type": "markdown",
   "metadata": {},
   "source": [
    "### Populating distance travelled by device when entering into geo-fence of a bus stop "
   ]
  },
  {
   "cell_type": "code",
   "execution_count": 442,
   "metadata": {
    "collapsed": false
   },
   "outputs": [],
   "source": [
    "earliestGeoFenceEntryWithDistanceDf= windowEarliestGeoFenceEntryDf.join(windowGeoFenceDf, ((windowEarliestGeoFenceEntryDf.device_id == windowGeoFenceDf.device_id_d)\\\n",
    "                           & (windowEarliestGeoFenceEntryDf.route_id == windowGeoFenceDf.route_id_d)\\\n",
    "                           & (windowEarliestGeoFenceEntryDf.schedule_no == windowGeoFenceDf.schedule_no_d)\\\n",
    "                           & (windowEarliestGeoFenceEntryDf.trip_number == windowGeoFenceDf.trip_number_d)\\\n",
    "                           & (windowEarliestGeoFenceEntryDf.route_bus_stop_id == windowGeoFenceDf.route_bus_stop_id_d)\\\n",
    "                           & (windowEarliestGeoFenceEntryDf.route_order == windowGeoFenceDf.route_order_d)\\\n",
    "                           & (windowEarliestGeoFenceEntryDf.window_start_time == windowGeoFenceDf.window_start_time_d)\\\n",
    "                           & (windowEarliestGeoFenceEntryDf.window_end_time == windowGeoFenceDf.window_end_time_d)\\\n",
    "                           & (windowEarliestGeoFenceEntryDf.ist_timestamp_seconds == windowGeoFenceDf.ist_timestamp_seconds_d)))"
   ]
  },
  {
   "cell_type": "code",
   "execution_count": 443,
   "metadata": {
    "collapsed": true
   },
   "outputs": [],
   "source": [
    "earliestGeoFenceEntryWithDistanceDf= earliestGeoFenceEntryWithDistanceDf.groupBy(\"device_id\", \"schedule_no\", \"trip_number\", \"route_id\", \"route_bus_stop_id\", \"route_order\", \"window_start_time\",\"window_end_time\", \"ist_timestamp_seconds\").min(\"acc_distance\")"
   ]
  },
  {
   "cell_type": "code",
   "execution_count": 444,
   "metadata": {
    "collapsed": true
   },
   "outputs": [],
   "source": [
    "earliestGeoFenceEntryWithDistanceDf= earliestGeoFenceEntryWithDistanceDf.withColumnRenamed(\"min(acc_distance)\", \"acc_distance\")"
   ]
  },
  {
   "cell_type": "markdown",
   "metadata": {},
   "source": [
    "## Enriching with useful columns "
   ]
  },
  {
   "cell_type": "code",
   "execution_count": 445,
   "metadata": {
    "collapsed": false
   },
   "outputs": [],
   "source": [
    "earliestGeoFenceEntryWithDistanceDf=earliestGeoFenceEntryWithDistanceDf.withColumn(\"arrival_time\", from_unixtime(\"ist_timestamp_seconds\", format=timeFmt1))"
   ]
  },
  {
   "cell_type": "markdown",
   "metadata": {},
   "source": [
    "### Joining with all trips data to find missing values "
   ]
  },
  {
   "cell_type": "code",
   "execution_count": 446,
   "metadata": {
    "collapsed": false
   },
   "outputs": [],
   "source": [
    "earliestGeoFenceEntryWithDistanceDf=earliestGeoFenceEntryWithDistanceDf.withColumn(\"window_start_timestamp\", \\\n",
    "            from_unixtime(unix_timestamp('window_start_time', format=dateTimeFmt),format=\"yyyy-MM-dd HH:mm:ss\"))"
   ]
  },
  {
   "cell_type": "code",
   "execution_count": 447,
   "metadata": {
    "collapsed": true
   },
   "outputs": [],
   "source": [
    "earliestGeoFenceEntryWithDistanceDf=earliestGeoFenceEntryWithDistanceDf.withColumn(\"window_end_timestamp\", \\\n",
    "            from_unixtime(unix_timestamp('window_end_time', format=dateTimeFmt),format=\"yyyy-MM-dd HH:mm:ss\"))"
   ]
  },
  {
   "cell_type": "code",
   "execution_count": 448,
   "metadata": {
    "collapsed": false
   },
   "outputs": [],
   "source": [
    "earliestGeoFenceEntryWithDistanceDf=earliestGeoFenceEntryWithDistanceDf.drop(\"window_start_time\").drop(\"window_end_time\")"
   ]
  },
  {
   "cell_type": "code",
   "execution_count": 449,
   "metadata": {
    "collapsed": true
   },
   "outputs": [],
   "source": [
    "earliestGeoFenceEntryWithDistanceDf=earliestGeoFenceEntryWithDistanceDf\\\n",
    ".withColumnRenamed(\"window_start_timestamp\",\"window_start_time\").withColumnRenamed(\"window_end_timestamp\",\"window_end_time\")"
   ]
  },
  {
   "cell_type": "code",
   "execution_count": 450,
   "metadata": {
    "collapsed": false
   },
   "outputs": [
    {
     "data": {
      "text/plain": [
       "298"
      ]
     },
     "execution_count": 450,
     "metadata": {},
     "output_type": "execute_result"
    }
   ],
   "source": [
    "earliestGeoFenceEntryWithDistanceDf.count()"
   ]
  },
  {
   "cell_type": "code",
   "execution_count": 451,
   "metadata": {
    "collapsed": true
   },
   "outputs": [],
   "source": [
    "bus_stop_with_dread_trip_df= inscope_filter_bus_stop_with_dread_trip_df.withColumnRenamed(\"schedule_no\", \"schedule_no_waybill\")\\\n",
    ".withColumnRenamed(\"trip_number\", \"trip_number_waybill\")\\\n",
    ".withColumnRenamed(\"route_bus_stop_id\", \"route_bus_stop_id_waybill\")\\\n",
    ".withColumnRenamed(\"route_order\", \"route_order_waybill\")\\\n",
    ".withColumnRenamed(\"window_start_time\", \"window_start_time_waybill\")\\\n",
    ".withColumnRenamed(\"window_end_time\", \"window_end_time_waybill\")\\\n",
    ".withColumnRenamed(\"latitude_current\", \"bus_stop_latitude\")\\\n",
    ".withColumnRenamed(\"longitude_current\", \"bus_stop_longitude\")"
   ]
  },
  {
   "cell_type": "code",
   "execution_count": 452,
   "metadata": {
    "collapsed": true
   },
   "outputs": [],
   "source": [
    "bus_stop_with_dread_trip_df=bus_stop_with_dread_trip_df.withColumn(\"dayofweek\", date_format(\"window_start_time_waybill\", \"EEEE\"))"
   ]
  },
  {
   "cell_type": "code",
   "execution_count": 453,
   "metadata": {
    "collapsed": false
   },
   "outputs": [],
   "source": [
    "bus_stop_with_dread_trip_df=bus_stop_with_dread_trip_df.withColumn(\"month\", lit(queryMonth))"
   ]
  },
  {
   "cell_type": "code",
   "execution_count": 454,
   "metadata": {
    "collapsed": true
   },
   "outputs": [],
   "source": [
    "bus_stop_with_dread_trip_df=bus_stop_with_dread_trip_df.withColumn(\"year\", lit(queryYear))"
   ]
  },
  {
   "cell_type": "code",
   "execution_count": 455,
   "metadata": {
    "collapsed": false,
    "scrolled": false
   },
   "outputs": [
    {
     "name": "stdout",
     "output_type": "stream",
     "text": [
      "root\n",
      " |-- device_id_waybill: string (nullable = true)\n",
      " |-- schedule_no_waybill: long (nullable = true)\n",
      " |-- trip_number_waybill: integer (nullable = true)\n",
      " |-- route_id_waybill: integer (nullable = true)\n",
      " |-- route_bus_stop_id_waybill: integer (nullable = true)\n",
      " |-- route_order_waybill: integer (nullable = true)\n",
      " |-- window_start_time_waybill: string (nullable = true)\n",
      " |-- window_end_time_waybill: string (nullable = true)\n",
      " |-- bus_stop_latitude: double (nullable = true)\n",
      " |-- bus_stop_longitude: double (nullable = true)\n",
      " |-- bus_stop_name: string (nullable = true)\n",
      " |-- is_dread_trip: integer (nullable = true)\n",
      " |-- distance: integer (nullable = true)\n",
      " |-- time_to_travel: integer (nullable = true)\n",
      " |-- dayofweek: string (nullable = true)\n",
      " |-- month: integer (nullable = false)\n",
      " |-- year: integer (nullable = false)\n",
      "\n"
     ]
    }
   ],
   "source": [
    "bus_stop_with_dread_trip_df.printSchema()"
   ]
  },
  {
   "cell_type": "markdown",
   "metadata": {},
   "source": [
    "### Left outer join with waybill data (bus_stop_with_dread_trip_df) so as to ensure we identify missing values"
   ]
  },
  {
   "cell_type": "code",
   "execution_count": 456,
   "metadata": {
    "collapsed": true
   },
   "outputs": [],
   "source": [
    "resultantEarliestGeoFenceEntryDf = bus_stop_with_dread_trip_df.join(earliestGeoFenceEntryWithDistanceDf, \\\n",
    "       ((bus_stop_with_dread_trip_df.device_id_waybill == earliestGeoFenceEntryWithDistanceDf.device_id)\\\n",
    "       & (bus_stop_with_dread_trip_df.route_id_waybill == earliestGeoFenceEntryWithDistanceDf.route_id)\\\n",
    "       & (bus_stop_with_dread_trip_df.schedule_no_waybill == earliestGeoFenceEntryWithDistanceDf.schedule_no)\\\n",
    "       & (bus_stop_with_dread_trip_df.trip_number_waybill == earliestGeoFenceEntryWithDistanceDf.trip_number)\\\n",
    "       & (bus_stop_with_dread_trip_df.route_bus_stop_id_waybill == earliestGeoFenceEntryWithDistanceDf.route_bus_stop_id)\\\n",
    "       & (bus_stop_with_dread_trip_df.route_order_waybill == earliestGeoFenceEntryWithDistanceDf.route_order)\\\n",
    "       & (bus_stop_with_dread_trip_df.window_start_time_waybill == earliestGeoFenceEntryWithDistanceDf.window_start_time)\\\n",
    "       & (bus_stop_with_dread_trip_df.window_end_time_waybill == earliestGeoFenceEntryWithDistanceDf.window_end_time)), \\\n",
    "       \"left_outer\")"
   ]
  },
  {
   "cell_type": "code",
   "execution_count": 457,
   "metadata": {
    "collapsed": true
   },
   "outputs": [],
   "source": [
    "resultantEarliestGeoFenceEntryDf= resultantEarliestGeoFenceEntryDf.drop(\"device_id\").drop(\"schedule_no\").drop(\"trip_number\")\\\n",
    ".drop(\"route_id\").drop(\"route_bus_stop_id\").drop(\"route_order\").drop(\"window_start_time\").drop(\"window_end_time\")"
   ]
  },
  {
   "cell_type": "code",
   "execution_count": 458,
   "metadata": {
    "collapsed": true
   },
   "outputs": [],
   "source": [
    "resultantEarliestGeoFenceEntryDf= resultantEarliestGeoFenceEntryDf.withColumnRenamed(\"device_id_waybill\", \"device_id\")\\\n",
    ".withColumnRenamed(\"schedule_no_waybill\", \"schedule_no\")\\\n",
    ".withColumnRenamed(\"trip_number_waybill\", \"trip_number\")\\\n",
    ".withColumnRenamed(\"route_id_waybill\", \"route_id\")\\\n",
    ".withColumnRenamed(\"route_bus_stop_id_waybill\", \"route_bus_stop_id\")\\\n",
    ".withColumnRenamed(\"route_order_waybill\", \"route_order\")\\\n",
    ".withColumnRenamed(\"window_start_time_waybill\", \"window_start_time\")\\\n",
    ".withColumnRenamed(\"window_end_time_waybill\", \"window_end_time\")"
   ]
  },
  {
   "cell_type": "code",
   "execution_count": 459,
   "metadata": {
    "collapsed": false,
    "scrolled": true
   },
   "outputs": [
    {
     "name": "stdout",
     "output_type": "stream",
     "text": [
      "root\n",
      " |-- device_id: string (nullable = true)\n",
      " |-- schedule_no: long (nullable = true)\n",
      " |-- trip_number: integer (nullable = true)\n",
      " |-- route_id: integer (nullable = true)\n",
      " |-- route_bus_stop_id: integer (nullable = true)\n",
      " |-- route_order: integer (nullable = true)\n",
      " |-- window_start_time: string (nullable = true)\n",
      " |-- window_end_time: string (nullable = true)\n",
      " |-- bus_stop_latitude: double (nullable = true)\n",
      " |-- bus_stop_longitude: double (nullable = true)\n",
      " |-- bus_stop_name: string (nullable = true)\n",
      " |-- is_dread_trip: integer (nullable = true)\n",
      " |-- distance: integer (nullable = true)\n",
      " |-- time_to_travel: integer (nullable = true)\n",
      " |-- dayofweek: string (nullable = true)\n",
      " |-- month: integer (nullable = false)\n",
      " |-- year: integer (nullable = false)\n",
      " |-- ist_timestamp_seconds: long (nullable = true)\n",
      " |-- acc_distance: integer (nullable = true)\n",
      " |-- arrival_time: string (nullable = true)\n",
      "\n"
     ]
    }
   ],
   "source": [
    "resultantEarliestGeoFenceEntryDf.printSchema()"
   ]
  },
  {
   "cell_type": "code",
   "execution_count": 460,
   "metadata": {
    "collapsed": true
   },
   "outputs": [],
   "source": [
    "resultantEarliestGeoFenceEntryDf= resultantEarliestGeoFenceEntryDf.withColumnRenamed(\"trip_number\", \"results_trip_number\")"
   ]
  },
  {
   "cell_type": "markdown",
   "metadata": {},
   "source": [
    "### Populating the results against schedule_details "
   ]
  },
  {
   "cell_type": "code",
   "execution_count": 461,
   "metadata": {
    "collapsed": false
   },
   "outputs": [],
   "source": [
    "schedule_details_df=sqlContext.sql(\"select * from schedule_details\")"
   ]
  },
  {
   "cell_type": "code",
   "execution_count": 462,
   "metadata": {
    "collapsed": false
   },
   "outputs": [],
   "source": [
    "schedule_details_df=schedule_details_df.select(\"form_four_id\", \"route_number_id\", \"trip_number\", \"start_time\", \"end_time\")"
   ]
  },
  {
   "cell_type": "code",
   "execution_count": 463,
   "metadata": {
    "collapsed": true
   },
   "outputs": [],
   "source": [
    "schedule_geo_entry_df= schedule_details_df.join(resultantEarliestGeoFenceEntryDf, \n",
    "        ((schedule_details_df.form_four_id == resultantEarliestGeoFenceEntryDf.schedule_no)\\\n",
    "        & (schedule_details_df.trip_number == resultantEarliestGeoFenceEntryDf.results_trip_number)\n",
    "        & (schedule_details_df.route_number_id == resultantEarliestGeoFenceEntryDf.route_id)))"
   ]
  },
  {
   "cell_type": "code",
   "execution_count": 464,
   "metadata": {
    "collapsed": false
   },
   "outputs": [],
   "source": [
    "schedule_geo_entry_df=schedule_geo_entry_df.drop(\"schedule_no\").drop(\"results_trip_number\").drop(\"route_id\")"
   ]
  },
  {
   "cell_type": "code",
   "execution_count": 465,
   "metadata": {
    "collapsed": true
   },
   "outputs": [],
   "source": [
    "schedule_geo_entry_df=schedule_geo_entry_df.withColumnRenamed(\"form_four_id\", \"schedule_no\")\n",
    "schedule_geo_entry_df=schedule_geo_entry_df.withColumnRenamed(\"route_number_id\", \"route_id\")"
   ]
  },
  {
   "cell_type": "code",
   "execution_count": 466,
   "metadata": {
    "collapsed": false
   },
   "outputs": [],
   "source": [
    "###schedule_geo_entry_df=schedule_geo_entry_df.withColumn(\"scheduled_trip_start_time\", concat(lit( dateHyphen + \" \" ), col(\"start_time\")))"
   ]
  },
  {
   "cell_type": "code",
   "execution_count": 467,
   "metadata": {
    "collapsed": true
   },
   "outputs": [],
   "source": [
    "###schedule_geo_entry_df=schedule_geo_entry_df.withColumn(\"scheduled_trip_end_time\", concat(lit( dateHyphen + \" \" ), col(\"end_time\")))"
   ]
  },
  {
   "cell_type": "code",
   "execution_count": 468,
   "metadata": {
    "collapsed": true
   },
   "outputs": [],
   "source": [
    "schedule_geo_entry_df=schedule_geo_entry_df.withColumnRenamed(\"start_time\", \"scheduled_trip_start_time\")"
   ]
  },
  {
   "cell_type": "code",
   "execution_count": 469,
   "metadata": {
    "collapsed": true
   },
   "outputs": [],
   "source": [
    "schedule_geo_entry_df=schedule_geo_entry_df.withColumnRenamed(\"end_time\", \"scheduled_trip_end_time\")"
   ]
  },
  {
   "cell_type": "code",
   "execution_count": 470,
   "metadata": {
    "collapsed": true
   },
   "outputs": [],
   "source": [
    "schedule_geo_entry_df=schedule_geo_entry_df.orderBy(\"schedule_no\", \"trip_number\", \"route_order\")"
   ]
  },
  {
   "cell_type": "code",
   "execution_count": 471,
   "metadata": {
    "collapsed": false,
    "scrolled": true
   },
   "outputs": [
    {
     "name": "stdout",
     "output_type": "stream",
     "text": [
      "+-----------+--------+-----------+-------------------------+-----------------------+---------+-----------------+-----------+-------------------+-------------------+-----------------+------------------+------------------------------------------+-------------+--------+--------------+---------+-----+----+---------------------+------------+-------------------+\n",
      "|schedule_no|route_id|trip_number|scheduled_trip_start_time|scheduled_trip_end_time|device_id|route_bus_stop_id|route_order|window_start_time  |window_end_time    |bus_stop_latitude|bus_stop_longitude|bus_stop_name                             |is_dread_trip|distance|time_to_travel|dayofweek|month|year|ist_timestamp_seconds|acc_distance|arrival_time       |\n",
      "+-----------+--------+-----------+-------------------------+-----------------------+---------+-----------------+-----------+-------------------+-------------------+-----------------+------------------+------------------------------------------+-------------+--------+--------------+---------+-----+----+---------------------+------------+-------------------+\n",
      "|3037       |9197    |1          |07:45:00                 |07:47:00               |150812438|1291             |1          |2016-09-30 06:49:10|2016-09-30 07:21:07|12.87193846      |77.58619537       |Depot-34 (Kottanur)                       |1            |0       |0             |Friday   |9    |2016|null                 |null        |null               |\n",
      "|3037       |9197    |1          |07:45:00                 |07:47:00               |150812438|10380            |2          |2016-09-30 06:49:10|2016-09-30 07:21:07|12.87155318      |77.5860849        |Connector                                 |1            |40      |3             |Friday   |9    |2016|null                 |null        |null               |\n",
      "|3037       |9197    |1          |07:45:00                 |07:47:00               |150812438|10381            |3          |2016-09-30 06:49:10|2016-09-30 07:21:07|12.87132242      |77.58583613       |Dummy                                     |1            |40      |2             |Friday   |9    |2016|null                 |null        |null               |\n",
      "|3037       |9197    |1          |07:45:00                 |07:47:00               |150812438|10793            |4          |2016-09-30 06:49:10|2016-09-30 07:21:07|12.87018994      |77.58574426       |Depot-34 Gate                             |1            |135     |54            |Friday   |9    |2016|null                 |null        |null               |\n",
      "|3037       |20240   |2          |07:47:00                 |07:55:00               |150812438|10793            |1          |2016-09-30 07:07:07|2016-09-30 08:08:58|12.87018994      |77.58574426       |Depot-34 Gate                             |0            |0       |0             |Friday   |9    |2016|1475201471           |8700225     |2016-09-30 07:41:11|\n",
      "|3037       |20240   |2          |07:47:00                 |07:55:00               |150812438|90               |2          |2016-09-30 07:07:07|2016-09-30 08:08:58|12.87099571      |77.5935365        |Loyola School                             |0            |1360    |262           |Friday   |9    |2016|1475201640           |8701133     |2016-09-30 07:44:00|\n",
      "|3037       |20240   |2          |07:47:00                 |07:55:00               |150812438|91               |3          |2016-09-30 07:07:07|2016-09-30 08:08:58|12.86613423      |77.59190793       |Kalena Agrahara                           |0            |550     |75            |Friday   |9    |2016|1475201730           |8701733     |2016-09-30 07:45:30|\n",
      "|3037       |20240   |2          |07:47:00                 |07:55:00               |150812438|92               |4          |2016-09-30 07:07:07|2016-09-30 08:08:58|12.86238129      |77.59061983       |Himagiri                                  |0            |440     |66            |Friday   |9    |2016|1475201779           |8702205     |2016-09-30 07:46:19|\n",
      "|3037       |20240   |2          |07:47:00                 |07:55:00               |150812438|93               |5          |2016-09-30 07:07:07|2016-09-30 08:08:58|12.85668319      |77.58893224       |Gottigere                                 |0            |667     |155           |Friday   |9    |2016|1475201879           |8702899     |2016-09-30 07:47:59|\n",
      "|3037       |20240   |2          |07:47:00                 |07:55:00               |150812438|94               |6          |2016-09-30 07:07:07|2016-09-30 08:08:58|12.85046022      |77.58837133       |T John College                            |0            |695     |108           |Friday   |9    |2016|1475201990           |8703601     |2016-09-30 07:49:50|\n",
      "|3037       |20240   |2          |07:47:00                 |07:55:00               |150812438|95               |7          |2016-09-30 07:07:07|2016-09-30 08:08:58|12.84623151      |77.58826256       |Basavanapura Gate                         |0            |464     |72            |Friday   |9    |2016|1475202337           |8704820     |2016-09-30 07:55:37|\n",
      "|3037       |20240   |2          |07:47:00                 |07:55:00               |150812438|10094            |8          |2016-09-30 07:07:07|2016-09-30 08:08:58|12.84678291      |77.59320349       |Basavanapura Church                       |0            |679     |177           |Friday   |9    |2016|null                 |null        |null               |\n",
      "|3037       |29325   |3          |08:00:00                 |09:10:00               |150812438|10093            |1          |2016-09-30 07:54:08|2016-09-30 09:11:54|12.84670707      |77.59313107       |Basavanapura Church                       |0            |0       |0             |Friday   |9    |2016|null                 |null        |null               |\n",
      "|3037       |29325   |3          |08:00:00                 |09:10:00               |150812438|105              |2          |2016-09-30 07:54:08|2016-09-30 09:11:54|12.84620008      |77.58817751       |Basavanapura Gate                         |0            |681     |191           |Friday   |9    |2016|1475202337           |8704820     |2016-09-30 07:55:37|\n",
      "|3037       |29325   |3          |08:00:00                 |09:10:00               |150812438|106              |3          |2016-09-30 07:54:08|2016-09-30 09:11:54|12.84959604      |77.58821708       |T John College                            |0            |361     |60            |Friday   |9    |2016|1475202428           |8705250     |2016-09-30 07:57:08|\n",
      "|3037       |29325   |3          |08:00:00                 |09:10:00               |150812438|107              |4          |2016-09-30 07:54:08|2016-09-30 09:11:54|12.85620471      |77.58875119       |Gottigere                                 |0            |737     |148           |Friday   |9    |2016|1475202557           |8705951     |2016-09-30 07:59:17|\n",
      "|3037       |29325   |3          |08:00:00                 |09:10:00               |150812438|108              |5          |2016-09-30 07:54:08|2016-09-30 09:11:54|12.86248422      |77.59055583       |Himagiri                                  |0            |731     |167           |Friday   |9    |2016|1475202686           |8706673     |2016-09-30 08:01:26|\n",
      "|3037       |29325   |3          |08:00:00                 |09:10:00               |150812438|5536             |6          |2016-09-30 07:54:08|2016-09-30 09:11:54|12.86599445      |77.59177789       |Kalena Agrahara                           |0            |412     |71            |Friday   |9    |2016|1475202746           |8707016     |2016-09-30 08:02:26|\n",
      "|3037       |29325   |3          |08:00:00                 |09:10:00               |150812438|109              |7          |2016-09-30 07:54:08|2016-09-30 09:11:54|12.87085012      |77.59337516       |Loyola School                             |0            |566     |82            |Friday   |9    |2016|1475202846           |8707598     |2016-09-30 08:04:06|\n",
      "|3037       |29325   |3          |08:00:00                 |09:10:00               |150812438|110              |8          |2016-09-30 07:54:08|2016-09-30 09:11:54|12.87470064      |77.59466015       |Meenakshi Temple                          |0            |436     |63            |Friday   |9    |2016|1475202906           |8708100     |2016-09-30 08:05:06|\n",
      "|3037       |29325   |3          |08:00:00                 |09:10:00               |150812438|111              |9          |2016-09-30 07:54:08|2016-09-30 09:11:54|12.88135098      |77.59588443       |Hulimavu Gate                             |0            |767     |106           |Friday   |9    |2016|1475203025           |8708795     |2016-09-30 08:07:05|\n",
      "|3037       |29325   |3          |08:00:00                 |09:10:00               |150812438|112              |10         |2016-09-30 07:54:08|2016-09-30 09:11:54|12.88726392      |77.59686118       |BPL                                       |0            |666     |111           |Friday   |9    |2016|1475203144           |8709487     |2016-09-30 08:09:04|\n",
      "|3037       |29325   |3          |08:00:00                 |09:10:00               |150812438|113              |11         |2016-09-30 07:54:08|2016-09-30 09:11:54|12.89062758      |77.59802821       |Arakere Gate                              |0            |391     |121           |Friday   |9    |2016|1475203204           |8709836     |2016-09-30 08:10:04|\n",
      "|3037       |29325   |3          |08:00:00                 |09:10:00               |150812438|114              |12         |2016-09-30 07:54:08|2016-09-30 09:11:54|12.8927024       |77.5987824        |HSBC                                      |0            |245     |50            |Friday   |9    |2016|1475203473           |8710175     |2016-09-30 08:14:33|\n",
      "|3037       |29325   |3          |08:00:00                 |09:10:00               |150812438|115              |13         |2016-09-30 07:54:08|2016-09-30 09:11:54|12.89591686      |77.59954375       |IIM Apollo                                |0            |367     |60            |Friday   |9    |2016|1475203513           |8710510     |2016-09-30 08:15:13|\n",
      "|3037       |29325   |3          |08:00:00                 |09:10:00               |150812438|116              |14         |2016-09-30 07:54:08|2016-09-30 09:11:54|12.90016624      |77.60079178       |Bilekahalli                               |0            |493     |96            |Friday   |9    |2016|1475203583           |8710980     |2016-09-30 08:16:23|\n",
      "|3037       |29325   |3          |08:00:00                 |09:10:00               |150812438|117              |15         |2016-09-30 07:54:08|2016-09-30 09:11:54|12.90771344      |77.60031173       |JP Nagara 3rd Phase                       |0            |902     |201           |Friday   |9    |2016|1475203812           |8711887     |2016-09-30 08:20:12|\n",
      "|3037       |29325   |3          |08:00:00                 |09:10:00               |150812438|778              |16         |2016-09-30 07:54:08|2016-09-30 09:11:54|12.91359167      |77.59972833       |MICO Layout Checkpost Gopalan mall        |0            |653     |112           |Friday   |9    |2016|1475203931           |8712459     |2016-09-30 08:22:11|\n",
      "|3037       |29325   |3          |08:00:00                 |09:10:00               |150812438|120              |17         |2016-09-30 07:54:08|2016-09-30 09:11:54|12.91938495      |77.59999955       |Gurappanapalya                            |0            |647     |83            |Friday   |9    |2016|1475204021           |8713115     |2016-09-30 08:23:41|\n",
      "|3037       |29325   |3          |08:00:00                 |09:10:00               |150812438|122              |18         |2016-09-30 07:54:08|2016-09-30 09:11:54|12.92668624      |77.60038036       |Ananda Ashrama                            |0            |804     |131           |Friday   |9    |2016|1475204181           |8713882     |2016-09-30 08:26:21|\n",
      "|3037       |29325   |3          |08:00:00                 |09:10:00               |150812438|3645             |19         |2016-09-30 07:54:08|2016-09-30 09:11:54|12.93713934      |77.60114082       |Bengaluru Dairy Circle                    |0            |1187    |205           |Friday   |9    |2016|1475204449           |8714974     |2016-09-30 08:30:49|\n",
      "|3037       |29325   |3          |08:00:00                 |09:10:00               |150812438|54               |20         |2016-09-30 07:54:08|2016-09-30 09:11:54|12.93868165      |77.59831884       |Nimhans Hospital                          |0            |372     |53            |Friday   |9    |2016|1475204489           |8715358     |2016-09-30 08:31:29|\n",
      "|3037       |29325   |3          |08:00:00                 |09:10:00               |150812438|55               |21         |2016-09-30 07:54:08|2016-09-30 09:11:54|12.94382951      |77.59709837       |Lakkasandra                               |0            |597     |89            |Friday   |9    |2016|1475204589           |8716056     |2016-09-30 08:33:09|\n",
      "|3037       |29325   |3          |08:00:00                 |09:10:00               |150812438|56               |22         |2016-09-30 07:54:08|2016-09-30 09:11:54|12.9467426       |77.59607302       |12th Cross Wilson Garden                  |0            |413     |102           |Friday   |9    |2016|1475204689           |8716499     |2016-09-30 08:34:49|\n",
      "|3037       |29325   |3          |08:00:00                 |09:10:00               |150812438|57               |23         |2016-09-30 07:54:08|2016-09-30 09:11:54|12.95021269      |77.5963872        |Wilson Garden Police Station              |0            |526     |101           |Friday   |9    |2016|1475204788           |8716962     |2016-09-30 08:36:28|\n",
      "|3037       |29325   |3          |08:00:00                 |09:10:00               |150812438|10005            |24         |2016-09-30 07:54:08|2016-09-30 09:11:54|12.95357523      |77.59213328       |STN Dummy Stop                            |0            |598     |116           |Friday   |9    |2016|1475204898           |8717528     |2016-09-30 08:38:18|\n",
      "|3037       |29325   |3          |08:00:00                 |09:10:00               |150812438|8208             |25         |2016-09-30 07:54:08|2016-09-30 09:11:54|12.95407122      |77.59227611       |SNT Connector                             |0            |20      |1             |Friday   |9    |2016|1475204907           |8717631     |2016-09-30 08:38:27|\n",
      "|3037       |29325   |3          |08:00:00                 |09:10:00               |150812438|64               |26         |2016-09-30 07:54:08|2016-09-30 09:11:54|12.95459258      |77.5925092        |Shanthinagara TTMC                        |0            |120     |8             |Friday   |9    |2016|1475204927           |8717631     |2016-09-30 08:38:47|\n",
      "|3037       |29325   |3          |08:00:00                 |09:10:00               |150812438|8205             |27         |2016-09-30 07:54:08|2016-09-30 09:11:54|12.95546118      |77.59233513       |SNT Connector                             |0            |70      |5             |Friday   |9    |2016|1475204998           |8717631     |2016-09-30 08:39:58|\n",
      "|3037       |29325   |3          |08:00:00                 |09:10:00               |150812438|10006            |28         |2016-09-30 07:54:08|2016-09-30 09:11:54|12.95564219      |77.59202466       |Shanthinagara TTMC Dummy                  |0            |60      |4             |Friday   |9    |2016|1475204998           |8717631     |2016-09-30 08:39:58|\n",
      "|3037       |29325   |3          |08:00:00                 |09:10:00               |150812438|8332             |29         |2016-09-30 07:54:08|2016-09-30 09:11:54|12.95839791      |77.59310425       |KH Road                                   |0            |329     |53            |Friday   |9    |2016|1475205067           |8718210     |2016-09-30 08:41:07|\n",
      "|3037       |29325   |3          |08:00:00                 |09:10:00               |150812438|6016             |30         |2016-09-30 07:54:08|2016-09-30 09:11:54|12.96477656      |77.59647575       |Richmond Circle (PF Office Under Fly Over)|0            |889     |215           |Friday   |9    |2016|1475205306           |8718944     |2016-09-30 08:45:06|\n",
      "|3037       |29325   |3          |08:00:00                 |09:10:00               |150812438|8379             |31         |2016-09-30 07:54:08|2016-09-30 09:11:54|12.9678313       |77.59084046       |Pallavi Talkies                           |0            |774     |119           |Friday   |9    |2016|1475205426           |8719798     |2016-09-30 08:47:06|\n",
      "|3037       |29325   |3          |08:00:00                 |09:10:00               |150812438|193              |32         |2016-09-30 07:54:08|2016-09-30 09:11:54|12.96841334      |77.5866793        |Corporation                               |0            |605     |203           |Friday   |9    |2016|1475205635           |8720340     |2016-09-30 08:50:35|\n",
      "|3037       |29325   |3          |08:00:00                 |09:10:00               |150812438|195              |33         |2016-09-30 07:54:08|2016-09-30 09:11:54|12.97267471      |77.58176117       |Mysore Bank                               |0            |714     |96            |Friday   |9    |2016|1475205725           |8721067     |2016-09-30 08:52:05|\n",
      "|3037       |29325   |3          |08:00:00                 |09:10:00               |150812438|8407             |34         |2016-09-30 07:54:08|2016-09-30 09:11:54|12.97740047      |77.57420137       |KBS Dummy Bus Stop                        |0            |1050    |259           |Friday   |9    |2016|1475205984           |8722126     |2016-09-30 08:56:24|\n",
      "|3037       |29325   |3          |08:00:00                 |09:10:00               |150812438|5849             |35         |2016-09-30 07:54:08|2016-09-30 09:11:54|12.97753944      |77.57407732       |KBS Connector                             |0            |30      |2             |Friday   |9    |2016|1475205984           |8722126     |2016-09-30 08:56:24|\n",
      "|3037       |29325   |3          |08:00:00                 |09:10:00               |150812438|8456             |36         |2016-09-30 07:54:08|2016-09-30 09:11:54|12.97750611      |77.57291257       |Kempegowda Bus Station                    |0            |120     |8             |Friday   |9    |2016|1475206014           |8722234     |2016-09-30 08:56:54|\n",
      "|3037       |20239   |4          |09:15:00                 |10:25:00               |150812438|160              |1          |2016-09-30 08:57:33|2016-09-30 10:40:00|12.97751447      |77.57178022       |Kempegowda Bus Station                    |0            |0       |0             |Friday   |9    |2016|1475206601           |8722436     |2016-09-30 09:06:41|\n",
      "|3037       |20239   |4          |09:15:00                 |10:25:00               |150812438|5841             |2          |2016-09-30 08:57:33|2016-09-30 10:40:00|12.97752049      |77.57099145       |KBS Connector                             |0            |80      |6             |Friday   |9    |2016|1475207029           |8722536     |2016-09-30 09:13:49|\n",
      "|3037       |20239   |4          |09:15:00                 |10:25:00               |150812438|33               |3          |2016-09-30 08:57:33|2016-09-30 10:40:00|12.97944962      |77.57116351       |KBS Connector2                            |0            |210     |15            |Friday   |9    |2016|1475207089           |8722783     |2016-09-30 09:14:49|\n",
      "|3037       |20239   |4          |09:15:00                 |10:25:00               |150812438|5840             |4          |2016-09-30 08:57:33|2016-09-30 10:40:00|12.97989895      |77.57139177       |KBS connector3                            |0            |60      |4             |Friday   |9    |2016|1475207089           |8722783     |2016-09-30 09:14:49|\n",
      "|3037       |20239   |4          |09:15:00                 |10:25:00               |150812438|8455             |5          |2016-09-30 08:57:33|2016-09-30 10:40:00|12.980274        |77.57191479       |KBS Dummy Bus Stand                       |0            |70      |5             |Friday   |9    |2016|1475207099           |8722783     |2016-09-30 09:14:59|\n",
      "|3037       |20239   |4          |09:15:00                 |10:25:00               |150812438|124              |6          |2016-09-30 08:57:33|2016-09-30 10:40:00|12.97705906      |77.58594229       |Maharanis College                         |0            |1634    |207           |Friday   |9    |2016|1475207309           |8724443     |2016-09-30 09:18:29|\n",
      "|3037       |20239   |4          |09:15:00                 |10:25:00               |150812438|61               |7          |2016-09-30 08:57:33|2016-09-30 10:40:00|12.97472667      |77.58691          |KR Circle                                 |0            |357     |85            |Friday   |9    |2016|1475207517           |8724780     |2016-09-30 09:21:57|\n",
      "|3037       |20239   |4          |09:15:00                 |10:25:00               |150812438|126              |8          |2016-09-30 08:57:33|2016-09-30 10:40:00|12.96962529      |77.58719475       |St Marthas Hospital                       |0            |577     |110           |Friday   |9    |2016|1475207618           |8725312     |2016-09-30 09:23:38|\n",
      "|3037       |20239   |4          |09:15:00                 |10:25:00               |150812438|158              |9          |2016-09-30 08:57:33|2016-09-30 10:40:00|12.96483149      |77.58802933       |Corporation                               |0            |764     |209           |Friday   |9    |2016|1475207836           |8726115     |2016-09-30 09:27:16|\n",
      "|3037       |20239   |4          |09:15:00                 |10:25:00               |150812438|159              |10         |2016-09-30 08:57:33|2016-09-30 10:40:00|12.962654        |77.59096469       |Subbaiah Circle                           |0            |418     |104           |Friday   |9    |2016|1475207975           |8726483     |2016-09-30 09:29:35|\n",
      "|3037       |20239   |4          |09:15:00                 |10:25:00               |150812438|353              |11         |2016-09-30 08:57:33|2016-09-30 10:40:00|12.95772479      |77.5931178        |KH Road                                   |0            |961     |180           |Friday   |9    |2016|1475208195           |8727437     |2016-09-30 09:33:15|\n",
      "|3037       |20239   |4          |09:15:00                 |10:25:00               |150812438|8579             |12         |2016-09-30 08:57:33|2016-09-30 10:40:00|12.95578074      |77.59218692       |SNT Dummy Stop                            |0            |239     |43            |Friday   |9    |2016|1475208235           |8727683     |2016-09-30 09:33:55|\n",
      "|3037       |20239   |4          |09:15:00                 |10:25:00               |150812438|8206             |13         |2016-09-30 08:57:33|2016-09-30 10:40:00|12.95482338      |77.59284607       |SNT Connector                             |0            |90      |6             |Friday   |9    |2016|1475208255           |8727813     |2016-09-30 09:34:15|\n",
      "|3037       |20239   |4          |09:15:00                 |10:25:00               |150812438|9005             |14         |2016-09-30 08:57:33|2016-09-30 10:40:00|12.95513379      |77.59271465       |SNT Dummy Stop                            |0            |10      |1             |Friday   |9    |2016|1475208245           |8727683     |2016-09-30 09:34:05|\n",
      "|3037       |20239   |4          |09:15:00                 |10:25:00               |150812438|9993             |15         |2016-09-30 08:57:33|2016-09-30 10:40:00|12.9549214       |77.59262882       |SNT Connector                             |0            |30      |1             |Friday   |9    |2016|1475208255           |8727813     |2016-09-30 09:34:15|\n",
      "|3037       |20239   |4          |09:15:00                 |10:25:00               |150812438|8207             |16         |2016-09-30 08:57:33|2016-09-30 10:40:00|12.95452669      |77.5927388        |Shanthinagara TTMC                        |0            |40      |2             |Friday   |9    |2016|1475208264           |8727813     |2016-09-30 09:34:24|\n",
      "|3037       |20239   |4          |09:15:00                 |10:25:00               |150812438|9996             |17         |2016-09-30 08:57:33|2016-09-30 10:40:00|12.95397776      |77.59250879       |SNT Connector                             |0            |70      |4             |Friday   |9    |2016|1475208284           |8727920     |2016-09-30 09:34:44|\n",
      "|3037       |20239   |4          |09:15:00                 |10:25:00               |150812438|8577             |18         |2016-09-30 08:57:33|2016-09-30 10:40:00|12.95350007      |77.59235524       |SNT Dummy Stop                            |0            |50      |3             |Friday   |9    |2016|1475208294           |8727920     |2016-09-30 09:34:54|\n",
      "|3037       |20239   |4          |09:15:00                 |10:25:00               |150812438|65               |19         |2016-09-30 08:57:33|2016-09-30 10:40:00|12.95140577      |77.59521987       |Wilson Garden Police Station              |0            |389     |77            |Friday   |9    |2016|1475208364           |8728277     |2016-09-30 09:36:04|\n",
      "|3037       |20239   |4          |09:15:00                 |10:25:00               |150812438|66               |20         |2016-09-30 08:57:33|2016-09-30 10:40:00|12.94715044      |77.59805714       |10th Cross Wilson Garden                  |0            |668     |134           |Friday   |9    |2016|1475208484           |8728948     |2016-09-30 09:38:04|\n",
      "|3037       |20239   |4          |09:15:00                 |10:25:00               |150812438|67               |21         |2016-09-30 08:57:33|2016-09-30 10:40:00|12.94308106      |77.59743743       |Lakkasandra                               |0            |534     |117           |Friday   |9    |2016|1475208574           |8729430     |2016-09-30 09:39:34|\n",
      "|3037       |20239   |4          |09:15:00                 |10:25:00               |150812438|351              |22         |2016-09-30 08:57:33|2016-09-30 10:40:00|12.93978245      |77.59789382       |Nimhans Hospital                          |0            |371     |59            |Friday   |9    |2016|1475208633           |8729827     |2016-09-30 09:40:33|\n",
      "|3037       |20239   |4          |09:15:00                 |10:25:00               |150812438|76               |23         |2016-09-30 08:57:33|2016-09-30 10:40:00|12.93563843      |77.60147069       |Bengaluru Dairy Circle                    |0            |671     |85            |Friday   |9    |2016|1475208723           |8730559     |2016-09-30 09:42:03|\n",
      "|3037       |20239   |4          |09:15:00                 |10:25:00               |150812438|77               |24         |2016-09-30 08:57:33|2016-09-30 10:40:00|12.92725733      |77.6006887        |Ananda Ashrama                            |0            |1010    |189           |Friday   |9    |2016|1475209002           |8731562     |2016-09-30 09:46:42|\n",
      "|3037       |20239   |4          |09:15:00                 |10:25:00               |150812438|9108             |25         |2016-09-30 08:57:33|2016-09-30 10:40:00|12.91903206      |77.60018259       |Gurappanapalya                            |0            |915     |167           |Friday   |9    |2016|1475209161           |8732386     |2016-09-30 09:49:21|\n",
      "|3037       |20239   |4          |09:15:00                 |10:25:00               |150812438|80               |26         |2016-09-30 08:57:33|2016-09-30 10:40:00|12.91394928      |77.60005281       |MICO Layout Checkpost Gopalan mall        |0            |563     |64            |Friday   |9    |2016|1475209241           |8733021     |2016-09-30 09:50:41|\n",
      "|3037       |20239   |4          |09:15:00                 |10:25:00               |150812438|81               |27         |2016-09-30 08:57:33|2016-09-30 10:40:00|12.9081699       |77.60041709       |JP Nagara 3rd Phase                       |0            |853     |172           |Friday   |9    |2016|1475209411           |8733580     |2016-09-30 09:53:31|\n",
      "|3037       |20239   |4          |09:15:00                 |10:25:00               |150812438|83               |28         |2016-09-30 08:57:33|2016-09-30 10:40:00|12.90077134      |77.60110669       |Bilekahalli                               |0            |1392    |292           |Friday   |9    |2016|1475209649           |8734473     |2016-09-30 09:57:29|\n",
      "|3037       |20239   |4          |09:15:00                 |10:25:00               |150812438|84               |29         |2016-09-30 08:57:33|2016-09-30 10:40:00|12.8960723       |77.59976967       |IIM Apollo                                |0            |543     |78            |Friday   |9    |2016|1475209740           |8734952     |2016-09-30 09:59:00|\n",
      "|3037       |20239   |4          |09:15:00                 |10:25:00               |150812438|85               |30         |2016-09-30 08:57:33|2016-09-30 10:40:00|12.89226171      |77.59883917       |HSBC                                      |0            |367     |46            |Friday   |9    |2016|1475209809           |8735394     |2016-09-30 10:00:09|\n",
      "|3037       |20239   |4          |09:15:00                 |10:25:00               |150812438|86               |31         |2016-09-30 08:57:33|2016-09-30 10:40:00|12.89059818      |77.59822328       |Arakere Gate                              |0            |265     |77            |Friday   |9    |2016|1475209829           |8735630     |2016-09-30 10:00:29|\n",
      "|3037       |20239   |4          |09:15:00                 |10:25:00               |150812438|87               |32         |2016-09-30 08:57:33|2016-09-30 10:40:00|12.88738986      |77.59702001       |BPL                                       |0            |381     |63            |Friday   |9    |2016|1475209978           |8735970     |2016-09-30 10:02:58|\n",
      "|3037       |20239   |4          |09:15:00                 |10:25:00               |150812438|88               |33         |2016-09-30 08:57:33|2016-09-30 10:40:00|12.88075471      |77.59590891       |Hulimavu Gate                             |0            |748     |112           |Friday   |9    |2016|1475210067           |8736772     |2016-09-30 10:04:27|\n",
      "|3037       |20239   |4          |09:15:00                 |10:25:00               |150812438|89               |34         |2016-09-30 08:57:33|2016-09-30 10:40:00|12.87470152      |77.59482719       |Meenakshi Temple                          |0            |684     |93            |Friday   |9    |2016|1475210168           |8737490     |2016-09-30 10:06:08|\n",
      "|3037       |20239   |4          |09:15:00                 |10:25:00               |150812438|90               |35         |2016-09-30 08:57:33|2016-09-30 10:40:00|12.87099571      |77.5935365        |Loyola School                             |0            |455     |74            |Friday   |9    |2016|1475210237           |8737835     |2016-09-30 10:07:17|\n",
      "|3037       |20239   |4          |09:15:00                 |10:25:00               |150812438|91               |36         |2016-09-30 08:57:33|2016-09-30 10:40:00|12.86613423      |77.59190793       |Kalena Agrahara                           |0            |550     |75            |Friday   |9    |2016|1475210317           |8738465     |2016-09-30 10:08:37|\n",
      "|3037       |20239   |4          |09:15:00                 |10:25:00               |150812438|92               |37         |2016-09-30 08:57:33|2016-09-30 10:40:00|12.86238129      |77.59061983       |Himagiri                                  |0            |440     |66            |Friday   |9    |2016|1475210386           |8738965     |2016-09-30 10:09:46|\n",
      "|3037       |20239   |4          |09:15:00                 |10:25:00               |150812438|93               |38         |2016-09-30 08:57:33|2016-09-30 10:40:00|12.85668319      |77.58893224       |Gottigere                                 |0            |667     |155           |Friday   |9    |2016|1475210486           |8739531     |2016-09-30 10:11:26|\n",
      "|3037       |20239   |4          |09:15:00                 |10:25:00               |150812438|94               |39         |2016-09-30 08:57:33|2016-09-30 10:40:00|12.85046022      |77.58837133       |T John College                            |0            |695     |108           |Friday   |9    |2016|1475210606           |8740221     |2016-09-30 10:13:26|\n",
      "|3037       |20239   |4          |09:15:00                 |10:25:00               |150812438|95               |40         |2016-09-30 08:57:33|2016-09-30 10:40:00|12.84623151      |77.58826256       |Basavanapura Gate                         |0            |464     |72            |Friday   |9    |2016|null                 |null        |null               |\n",
      "|3037       |20239   |4          |09:15:00                 |10:25:00               |150812438|10094            |41         |2016-09-30 08:57:33|2016-09-30 10:40:00|12.84678291      |77.59320349       |Basavanapura Church                       |0            |679     |177           |Friday   |9    |2016|null                 |null        |null               |\n",
      "|3037       |29325   |5          |10:30:00                 |11:40:00               |150812438|10093            |1          |2016-09-30 10:29:10|2016-09-30 12:12:25|12.84670707      |77.59313107       |Basavanapura Church                       |0            |0       |0             |Friday   |9    |2016|null                 |null        |null               |\n",
      "|3037       |29325   |5          |10:30:00                 |11:40:00               |150812438|105              |2          |2016-09-30 10:29:10|2016-09-30 12:12:25|12.84620008      |77.58817751       |Basavanapura Gate                         |0            |681     |191           |Friday   |9    |2016|1475212751           |8741556     |2016-09-30 10:49:11|\n",
      "|3037       |29325   |5          |10:30:00                 |11:40:00               |150812438|106              |3          |2016-09-30 10:29:10|2016-09-30 12:12:25|12.84959604      |77.58821708       |T John College                            |0            |361     |60            |Friday   |9    |2016|1475212830           |8741901     |2016-09-30 10:50:30|\n",
      "|3037       |29325   |5          |10:30:00                 |11:40:00               |150812438|107              |4          |2016-09-30 10:29:10|2016-09-30 12:12:25|12.85620471      |77.58875119       |Gottigere                                 |0            |737     |148           |Friday   |9    |2016|1475213009           |8742658     |2016-09-30 10:53:29|\n",
      "|3037       |29325   |5          |10:30:00                 |11:40:00               |150812438|108              |5          |2016-09-30 10:29:10|2016-09-30 12:12:25|12.86248422      |77.59055583       |Himagiri                                  |0            |731     |167           |Friday   |9    |2016|1475213229           |8743358     |2016-09-30 10:57:09|\n",
      "|3037       |29325   |5          |10:30:00                 |11:40:00               |150812438|5536             |6          |2016-09-30 10:29:10|2016-09-30 12:12:25|12.86599445      |77.59177789       |Kalena Agrahara                           |0            |412     |71            |Friday   |9    |2016|1475213299           |8743693     |2016-09-30 10:58:19|\n",
      "|3037       |29325   |5          |10:30:00                 |11:40:00               |150812438|109              |7          |2016-09-30 10:29:10|2016-09-30 12:12:25|12.87085012      |77.59337516       |Loyola School                             |0            |566     |82            |Friday   |9    |2016|1475213398           |8744299     |2016-09-30 10:59:58|\n",
      "|3037       |29325   |5          |10:30:00                 |11:40:00               |150812438|110              |8          |2016-09-30 10:29:10|2016-09-30 12:12:25|12.87470064      |77.59466015       |Meenakshi Temple                          |0            |436     |63            |Friday   |9    |2016|1475213468           |8744742     |2016-09-30 11:01:08|\n",
      "|3037       |29325   |5          |10:30:00                 |11:40:00               |150812438|111              |9          |2016-09-30 10:29:10|2016-09-30 12:12:25|12.88135098      |77.59588443       |Hulimavu Gate                             |0            |767     |106           |Friday   |9    |2016|1475213667           |8745478     |2016-09-30 11:04:27|\n",
      "|3037       |29325   |5          |10:30:00                 |11:40:00               |150812438|112              |10         |2016-09-30 10:29:10|2016-09-30 12:12:25|12.88726392      |77.59686118       |BPL                                       |0            |666     |111           |Friday   |9    |2016|1475213826           |8746196     |2016-09-30 11:07:06|\n",
      "|3037       |29325   |5          |10:30:00                 |11:40:00               |150812438|113              |11         |2016-09-30 10:29:10|2016-09-30 12:12:25|12.89062758      |77.59802821       |Arakere Gate                              |0            |391     |121           |Friday   |9    |2016|1475213897           |8746568     |2016-09-30 11:08:17|\n",
      "|3037       |29325   |5          |10:30:00                 |11:40:00               |150812438|114              |12         |2016-09-30 10:29:10|2016-09-30 12:12:25|12.8927024       |77.5987824        |HSBC                                      |0            |245     |50            |Friday   |9    |2016|1475214086           |8746800     |2016-09-30 11:11:26|\n",
      "|3037       |29325   |5          |10:30:00                 |11:40:00               |150812438|115              |13         |2016-09-30 10:29:10|2016-09-30 12:12:25|12.89591686      |77.59954375       |IIM Apollo                                |0            |367     |60            |Friday   |9    |2016|1475214145           |8747117     |2016-09-30 11:12:25|\n",
      "|3037       |29325   |5          |10:30:00                 |11:40:00               |150812438|116              |14         |2016-09-30 10:29:10|2016-09-30 12:12:25|12.90016624      |77.60079178       |Bilekahalli                               |0            |493     |96            |Friday   |9    |2016|1475214245           |8747574     |2016-09-30 11:14:05|\n",
      "|3037       |29325   |5          |10:30:00                 |11:40:00               |150812438|117              |15         |2016-09-30 10:29:10|2016-09-30 12:12:25|12.90771344      |77.60031173       |JP Nagara 3rd Phase                       |0            |902     |201           |Friday   |9    |2016|1475214603           |8748588     |2016-09-30 11:20:03|\n",
      "|3037       |29325   |5          |10:30:00                 |11:40:00               |150812438|778              |16         |2016-09-30 10:29:10|2016-09-30 12:12:25|12.91359167      |77.59972833       |MICO Layout Checkpost Gopalan mall        |0            |653     |112           |Friday   |9    |2016|1475214823           |8749161     |2016-09-30 11:23:43|\n",
      "|3037       |29325   |5          |10:30:00                 |11:40:00               |150812438|120              |17         |2016-09-30 10:29:10|2016-09-30 12:12:25|12.91938495      |77.59999955       |Gurappanapalya                            |0            |647     |83            |Friday   |9    |2016|1475214912           |8749791     |2016-09-30 11:25:12|\n",
      "|3037       |29325   |5          |10:30:00                 |11:40:00               |150812438|122              |18         |2016-09-30 10:29:10|2016-09-30 12:12:25|12.92668624      |77.60038036       |Ananda Ashrama                            |0            |804     |131           |Friday   |9    |2016|1475215042           |8750600     |2016-09-30 11:27:22|\n",
      "|3037       |29325   |5          |10:30:00                 |11:40:00               |150812438|3645             |19         |2016-09-30 10:29:10|2016-09-30 12:12:25|12.93713934      |77.60114082       |Bengaluru Dairy Circle                    |0            |1187    |205           |Friday   |9    |2016|1475215271           |8751740     |2016-09-30 11:31:11|\n",
      "|3037       |29325   |5          |10:30:00                 |11:40:00               |150812438|54               |20         |2016-09-30 10:29:10|2016-09-30 12:12:25|12.93868165      |77.59831884       |Nimhans Hospital                          |0            |372     |53            |Friday   |9    |2016|1475215311           |8752095     |2016-09-30 11:31:51|\n",
      "|3037       |29325   |5          |10:30:00                 |11:40:00               |150812438|55               |21         |2016-09-30 10:29:10|2016-09-30 12:12:25|12.94382951      |77.59709837       |Lakkasandra                               |0            |597     |89            |Friday   |9    |2016|1475215430           |8752816     |2016-09-30 11:33:50|\n",
      "|3037       |29325   |5          |10:30:00                 |11:40:00               |150812438|56               |22         |2016-09-30 10:29:10|2016-09-30 12:12:25|12.9467426       |77.59607302       |12th Cross Wilson Garden                  |0            |413     |102           |Friday   |9    |2016|1475215550           |8753126     |2016-09-30 11:35:50|\n",
      "|3037       |29325   |5          |10:30:00                 |11:40:00               |150812438|57               |23         |2016-09-30 10:29:10|2016-09-30 12:12:25|12.95021269      |77.5963872        |Wilson Garden Police Station              |0            |526     |101           |Friday   |9    |2016|1475215659           |8753614     |2016-09-30 11:37:39|\n",
      "|3037       |29325   |5          |10:30:00                 |11:40:00               |150812438|10005            |24         |2016-09-30 10:29:10|2016-09-30 12:12:25|12.95357523      |77.59213328       |STN Dummy Stop                            |0            |598     |116           |Friday   |9    |2016|1475215779           |8754190     |2016-09-30 11:39:39|\n",
      "|3037       |29325   |5          |10:30:00                 |11:40:00               |150812438|8208             |25         |2016-09-30 10:29:10|2016-09-30 12:12:25|12.95407122      |77.59227611       |SNT Connector                             |0            |20      |1             |Friday   |9    |2016|1475215779           |8754190     |2016-09-30 11:39:39|\n",
      "|3037       |29325   |5          |10:30:00                 |11:40:00               |150812438|64               |26         |2016-09-30 10:29:10|2016-09-30 12:12:25|12.95459258      |77.5925092        |Shanthinagara TTMC                        |0            |120     |8             |Friday   |9    |2016|1475215799           |8754309     |2016-09-30 11:39:59|\n",
      "|3037       |29325   |5          |10:30:00                 |11:40:00               |150812438|8205             |27         |2016-09-30 10:29:10|2016-09-30 12:12:25|12.95546118      |77.59233513       |SNT Connector                             |0            |70      |5             |Friday   |9    |2016|1475215878           |8754528     |2016-09-30 11:41:18|\n",
      "|3037       |29325   |5          |10:30:00                 |11:40:00               |150812438|10006            |28         |2016-09-30 10:29:10|2016-09-30 12:12:25|12.95564219      |77.59202466       |Shanthinagara TTMC Dummy                  |0            |60      |4             |Friday   |9    |2016|1475215878           |8754528     |2016-09-30 11:41:18|\n",
      "|3037       |29325   |5          |10:30:00                 |11:40:00               |150812438|8332             |29         |2016-09-30 10:29:10|2016-09-30 12:12:25|12.95839791      |77.59310425       |KH Road                                   |0            |329     |53            |Friday   |9    |2016|1475215929           |8754776     |2016-09-30 11:42:09|\n",
      "|3037       |29325   |5          |10:30:00                 |11:40:00               |150812438|6016             |30         |2016-09-30 10:29:10|2016-09-30 12:12:25|12.96477656      |77.59647575       |Richmond Circle (PF Office Under Fly Over)|0            |889     |215           |Friday   |9    |2016|1475216157           |8755553     |2016-09-30 11:45:57|\n",
      "|3037       |29325   |5          |10:30:00                 |11:40:00               |150812438|8379             |31         |2016-09-30 10:29:10|2016-09-30 12:12:25|12.9678313       |77.59084046       |Pallavi Talkies                           |0            |774     |119           |Friday   |9    |2016|1475216337           |8756457     |2016-09-30 11:48:57|\n",
      "|3037       |29325   |5          |10:30:00                 |11:40:00               |150812438|193              |32         |2016-09-30 10:29:10|2016-09-30 12:12:25|12.96841334      |77.5866793        |Corporation                               |0            |605     |203           |Friday   |9    |2016|1475216536           |8757046     |2016-09-30 11:52:16|\n",
      "|3037       |29325   |5          |10:30:00                 |11:40:00               |150812438|195              |33         |2016-09-30 10:29:10|2016-09-30 12:12:25|12.97267471      |77.58176117       |Mysore Bank                               |0            |714     |96            |Friday   |9    |2016|1475216625           |8757650     |2016-09-30 11:53:45|\n",
      "|3037       |29325   |5          |10:30:00                 |11:40:00               |150812438|8407             |34         |2016-09-30 10:29:10|2016-09-30 12:12:25|12.97740047      |77.57420137       |KBS Dummy Bus Stop                        |0            |1050    |259           |Friday   |9    |2016|1475216815           |8758737     |2016-09-30 11:56:55|\n",
      "|3037       |29325   |5          |10:30:00                 |11:40:00               |150812438|5849             |35         |2016-09-30 10:29:10|2016-09-30 12:12:25|12.97753944      |77.57407732       |KBS Connector                             |0            |30      |2             |Friday   |9    |2016|1475216815           |8758737     |2016-09-30 11:56:55|\n",
      "|3037       |29325   |5          |10:30:00                 |11:40:00               |150812438|8456             |36         |2016-09-30 10:29:10|2016-09-30 12:12:25|12.97750611      |77.57291257       |Kempegowda Bus Station                    |0            |120     |8             |Friday   |9    |2016|1475216845           |8758854     |2016-09-30 11:57:25|\n",
      "|3037       |20239   |6          |11:45:00                 |12:50:00               |150812438|160              |1          |2016-09-30 11:58:04|2016-09-30 13:34:56|12.97751447      |77.57178022       |Kempegowda Bus Station                    |0            |0       |0             |Friday   |9    |2016|1475217482           |8759072     |2016-09-30 12:08:02|\n",
      "|3037       |20239   |6          |11:45:00                 |12:50:00               |150812438|5841             |2          |2016-09-30 11:58:04|2016-09-30 13:34:56|12.97752049      |77.57099145       |KBS Connector                             |0            |80      |6             |Friday   |9    |2016|1475217492           |8759188     |2016-09-30 12:08:12|\n",
      "|3037       |20239   |6          |11:45:00                 |12:50:00               |150812438|33               |3          |2016-09-30 11:58:04|2016-09-30 13:34:56|12.97944962      |77.57116351       |KBS Connector2                            |0            |210     |15            |Friday   |9    |2016|1475217551           |8759441     |2016-09-30 12:09:11|\n",
      "|3037       |20239   |6          |11:45:00                 |12:50:00               |150812438|5840             |4          |2016-09-30 11:58:04|2016-09-30 13:34:56|12.97989895      |77.57139177       |KBS connector3                            |0            |60      |4             |Friday   |9    |2016|1475217551           |8759441     |2016-09-30 12:09:11|\n",
      "|3037       |20239   |6          |11:45:00                 |12:50:00               |150812438|8455             |5          |2016-09-30 11:58:04|2016-09-30 13:34:56|12.980274        |77.57191479       |KBS Dummy Bus Stand                       |0            |70      |5             |Friday   |9    |2016|1475217561           |8759441     |2016-09-30 12:09:21|\n",
      "|3037       |20239   |6          |11:45:00                 |12:50:00               |150812438|124              |6          |2016-09-30 11:58:04|2016-09-30 13:34:56|12.97705906      |77.58594229       |Maharanis College                         |0            |1634    |207           |Friday   |9    |2016|1475217741           |8761079     |2016-09-30 12:12:21|\n",
      "|3037       |20239   |6          |11:45:00                 |12:50:00               |150812438|61               |7          |2016-09-30 11:58:04|2016-09-30 13:34:56|12.97472667      |77.58691          |KR Circle                                 |0            |357     |85            |Friday   |9    |2016|1475217841           |8761408     |2016-09-30 12:14:01|\n",
      "|3037       |20239   |6          |11:45:00                 |12:50:00               |150812438|126              |8          |2016-09-30 11:58:04|2016-09-30 13:34:56|12.96962529      |77.58719475       |St Marthas Hospital                       |0            |577     |110           |Friday   |9    |2016|1475217930           |8762137     |2016-09-30 12:15:30|\n",
      "|3037       |20239   |6          |11:45:00                 |12:50:00               |150812438|158              |9          |2016-09-30 11:58:04|2016-09-30 13:34:56|12.96483149      |77.58802933       |Corporation                               |0            |764     |209           |Friday   |9    |2016|1475218090           |8762756     |2016-09-30 12:18:10|\n",
      "|3037       |20239   |6          |11:45:00                 |12:50:00               |150812438|159              |10         |2016-09-30 11:58:04|2016-09-30 13:34:56|12.962654        |77.59096469       |Subbaiah Circle                           |0            |418     |104           |Friday   |9    |2016|1475218259           |8763121     |2016-09-30 12:20:59|\n",
      "|3037       |20239   |6          |11:45:00                 |12:50:00               |150812438|353              |11         |2016-09-30 11:58:04|2016-09-30 13:34:56|12.95772479      |77.5931178        |KH Road                                   |0            |961     |180           |Friday   |9    |2016|1475218479           |8764069     |2016-09-30 12:24:39|\n",
      "|3037       |20239   |6          |11:45:00                 |12:50:00               |150812438|8579             |12         |2016-09-30 11:58:04|2016-09-30 13:34:56|12.95578074      |77.59218692       |SNT Dummy Stop                            |0            |239     |43            |Friday   |9    |2016|1475218518           |8764320     |2016-09-30 12:25:18|\n",
      "|3037       |20239   |6          |11:45:00                 |12:50:00               |150812438|8206             |13         |2016-09-30 11:58:04|2016-09-30 13:34:56|12.95482338      |77.59284607       |SNT Connector                             |0            |90      |6             |Friday   |9    |2016|1475218528           |8764429     |2016-09-30 12:25:28|\n",
      "|3037       |20239   |6          |11:45:00                 |12:50:00               |150812438|9005             |14         |2016-09-30 11:58:04|2016-09-30 13:34:56|12.95513379      |77.59271465       |SNT Dummy Stop                            |0            |10      |1             |Friday   |9    |2016|1475218528           |8764429     |2016-09-30 12:25:28|\n",
      "|3037       |20239   |6          |11:45:00                 |12:50:00               |150812438|9993             |15         |2016-09-30 11:58:04|2016-09-30 13:34:56|12.9549214       |77.59262882       |SNT Connector                             |0            |30      |1             |Friday   |9    |2016|1475218528           |8764429     |2016-09-30 12:25:28|\n",
      "|3037       |20239   |6          |11:45:00                 |12:50:00               |150812438|8207             |16         |2016-09-30 11:58:04|2016-09-30 13:34:56|12.95452669      |77.5927388        |Shanthinagara TTMC                        |0            |40      |2             |Friday   |9    |2016|1475218538           |8764429     |2016-09-30 12:25:38|\n",
      "|3037       |20239   |6          |11:45:00                 |12:50:00               |150812438|9996             |17         |2016-09-30 11:58:04|2016-09-30 13:34:56|12.95397776      |77.59250879       |SNT Connector                             |0            |70      |4             |Friday   |9    |2016|1475218558           |8764542     |2016-09-30 12:25:58|\n",
      "|3037       |20239   |6          |11:45:00                 |12:50:00               |150812438|8577             |18         |2016-09-30 11:58:04|2016-09-30 13:34:56|12.95350007      |77.59235524       |SNT Dummy Stop                            |0            |50      |3             |Friday   |9    |2016|1475218628           |8764746     |2016-09-30 12:27:08|\n",
      "|3037       |20239   |6          |11:45:00                 |12:50:00               |150812438|65               |19         |2016-09-30 11:58:04|2016-09-30 13:34:56|12.95140577      |77.59521987       |Wilson Garden Police Station              |0            |389     |77            |Friday   |9    |2016|1475218697           |8764978     |2016-09-30 12:28:17|\n",
      "|3037       |20239   |6          |11:45:00                 |12:50:00               |150812438|66               |20         |2016-09-30 11:58:04|2016-09-30 13:34:56|12.94715044      |77.59805714       |10th Cross Wilson Garden                  |0            |668     |134           |Friday   |9    |2016|1475218846           |8765684     |2016-09-30 12:30:46|\n",
      "|3037       |20239   |6          |11:45:00                 |12:50:00               |150812438|67               |21         |2016-09-30 11:58:04|2016-09-30 13:34:56|12.94308106      |77.59743743       |Lakkasandra                               |0            |534     |117           |Friday   |9    |2016|1475218957           |8766136     |2016-09-30 12:32:37|\n",
      "|3037       |20239   |6          |11:45:00                 |12:50:00               |150812438|351              |22         |2016-09-30 11:58:04|2016-09-30 13:34:56|12.93978245      |77.59789382       |Nimhans Hospital                          |0            |371     |59            |Friday   |9    |2016|1475219026           |8766626     |2016-09-30 12:33:46|\n",
      "|3037       |20239   |6          |11:45:00                 |12:50:00               |150812438|76               |23         |2016-09-30 11:58:04|2016-09-30 13:34:56|12.93563843      |77.60147069       |Bengaluru Dairy Circle                    |0            |671     |85            |Friday   |9    |2016|1475219145           |8767296     |2016-09-30 12:35:45|\n",
      "|3037       |20239   |6          |11:45:00                 |12:50:00               |150812438|77               |24         |2016-09-30 11:58:04|2016-09-30 13:34:56|12.92725733      |77.6006887        |Ananda Ashrama                            |0            |1010    |189           |Friday   |9    |2016|1475219435           |8768239     |2016-09-30 12:40:35|\n",
      "|3037       |20239   |6          |11:45:00                 |12:50:00               |150812438|9108             |25         |2016-09-30 11:58:04|2016-09-30 13:34:56|12.91903206      |77.60018259       |Gurappanapalya                            |0            |915     |167           |Friday   |9    |2016|1475219604           |8769157     |2016-09-30 12:43:24|\n",
      "|3037       |20239   |6          |11:45:00                 |12:50:00               |150812438|80               |26         |2016-09-30 11:58:04|2016-09-30 13:34:56|12.91394928      |77.60005281       |MICO Layout Checkpost Gopalan mall        |0            |563     |64            |Friday   |9    |2016|1475219683           |8769717     |2016-09-30 12:44:43|\n",
      "|3037       |20239   |6          |11:45:00                 |12:50:00               |150812438|81               |27         |2016-09-30 11:58:04|2016-09-30 13:34:56|12.9081699       |77.60041709       |JP Nagara 3rd Phase                       |0            |853     |172           |Friday   |9    |2016|1475219853           |8770318     |2016-09-30 12:47:33|\n",
      "|3037       |20239   |6          |11:45:00                 |12:50:00               |150812438|83               |28         |2016-09-30 11:58:04|2016-09-30 13:34:56|12.90077134      |77.60110669       |Bilekahalli                               |0            |1392    |292           |Friday   |9    |2016|1475220172           |8771173     |2016-09-30 12:52:52|\n",
      "|3037       |20239   |6          |11:45:00                 |12:50:00               |150812438|84               |29         |2016-09-30 11:58:04|2016-09-30 13:34:56|12.8960723       |77.59976967       |IIM Apollo                                |0            |543     |78            |Friday   |9    |2016|1475220262           |8771694     |2016-09-30 12:54:22|\n",
      "|3037       |20239   |6          |11:45:00                 |12:50:00               |150812438|85               |30         |2016-09-30 11:58:04|2016-09-30 13:34:56|12.89226171      |77.59883917       |HSBC                                      |0            |367     |46            |Friday   |9    |2016|1475220311           |8772071     |2016-09-30 12:55:11|\n",
      "|3037       |20239   |6          |11:45:00                 |12:50:00               |150812438|86               |31         |2016-09-30 11:58:04|2016-09-30 13:34:56|12.89059818      |77.59822328       |Arakere Gate                              |0            |265     |77            |Friday   |9    |2016|1475220341           |8772320     |2016-09-30 12:55:41|\n",
      "|3037       |20239   |6          |11:45:00                 |12:50:00               |150812438|87               |32         |2016-09-30 11:58:04|2016-09-30 13:34:56|12.88738986      |77.59702001       |BPL                                       |0            |381     |63            |Friday   |9    |2016|1475220430           |8772655     |2016-09-30 12:57:10|\n",
      "|3037       |20239   |6          |11:45:00                 |12:50:00               |150812438|88               |33         |2016-09-30 11:58:04|2016-09-30 13:34:56|12.88075471      |77.59590891       |Hulimavu Gate                             |0            |748     |112           |Friday   |9    |2016|1475220590           |8773478     |2016-09-30 12:59:50|\n",
      "|3037       |20239   |6          |11:45:00                 |12:50:00               |150812438|89               |34         |2016-09-30 11:58:04|2016-09-30 13:34:56|12.87470152      |77.59482719       |Meenakshi Temple                          |0            |684     |93            |Friday   |9    |2016|1475220720           |8774093     |2016-09-30 13:02:00|\n",
      "|3037       |20239   |6          |11:45:00                 |12:50:00               |150812438|90               |35         |2016-09-30 11:58:04|2016-09-30 13:34:56|12.87099571      |77.5935365        |Loyola School                             |0            |455     |74            |Friday   |9    |2016|1475220809           |8774473     |2016-09-30 13:03:29|\n",
      "|3037       |20239   |6          |11:45:00                 |12:50:00               |150812438|91               |36         |2016-09-30 11:58:04|2016-09-30 13:34:56|12.86613423      |77.59190793       |Kalena Agrahara                           |0            |550     |75            |Friday   |9    |2016|1475220928           |8775068     |2016-09-30 13:05:28|\n",
      "|3037       |20239   |6          |11:45:00                 |12:50:00               |150812438|92               |37         |2016-09-30 11:58:04|2016-09-30 13:34:56|12.86238129      |77.59061983       |Himagiri                                  |0            |440     |66            |Friday   |9    |2016|1475221019           |8775553     |2016-09-30 13:06:59|\n",
      "|3037       |20239   |6          |11:45:00                 |12:50:00               |150812438|93               |38         |2016-09-30 11:58:04|2016-09-30 13:34:56|12.85668319      |77.58893224       |Gottigere                                 |0            |667     |155           |Friday   |9    |2016|1475221237           |8776132     |2016-09-30 13:10:37|\n",
      "|3037       |20239   |6          |11:45:00                 |12:50:00               |150812438|94               |39         |2016-09-30 11:58:04|2016-09-30 13:34:56|12.85046022      |77.58837133       |T John College                            |0            |695     |108           |Friday   |9    |2016|1475221406           |8776817     |2016-09-30 13:13:26|\n",
      "|3037       |20239   |6          |11:45:00                 |12:50:00               |150812438|95               |40         |2016-09-30 11:58:04|2016-09-30 13:34:56|12.84623151      |77.58826256       |Basavanapura Gate                         |0            |464     |72            |Friday   |9    |2016|null                 |null        |null               |\n",
      "|3037       |20239   |6          |11:45:00                 |12:50:00               |150812438|10094            |41         |2016-09-30 11:58:04|2016-09-30 13:34:56|12.84678291      |77.59320349       |Basavanapura Church                       |0            |679     |177           |Friday   |9    |2016|null                 |null        |null               |\n",
      "|3037       |29325   |7          |13:20:00                 |14:25:00               |150812438|10093            |1          |2016-09-30 13:23:16|2016-09-30 15:01:26|12.84670707      |77.59313107       |Basavanapura Church                       |0            |0       |0             |Friday   |9    |2016|null                 |null        |null               |\n",
      "|3037       |29325   |7          |13:20:00                 |14:25:00               |150812438|105              |2          |2016-09-30 13:23:16|2016-09-30 15:01:26|12.84620008      |77.58817751       |Basavanapura Gate                         |0            |681     |191           |Friday   |9    |2016|1475223131           |8778247     |2016-09-30 13:42:11|\n",
      "|3037       |29325   |7          |13:20:00                 |14:25:00               |150812438|106              |3          |2016-09-30 13:23:16|2016-09-30 15:01:26|12.84959604      |77.58821708       |T John College                            |0            |361     |60            |Friday   |9    |2016|1475223221           |8778478     |2016-09-30 13:43:41|\n",
      "|3037       |29325   |7          |13:20:00                 |14:25:00               |150812438|107              |4          |2016-09-30 13:23:16|2016-09-30 15:01:26|12.85620471      |77.58875119       |Gottigere                                 |0            |737     |148           |Friday   |9    |2016|1475223360           |8779298     |2016-09-30 13:46:00|\n",
      "|3037       |29325   |7          |13:20:00                 |14:25:00               |150812438|108              |5          |2016-09-30 13:23:16|2016-09-30 15:01:26|12.86248422      |77.59055583       |Himagiri                                  |0            |731     |167           |Friday   |9    |2016|1475223539           |8780033     |2016-09-30 13:48:59|\n",
      "|3037       |29325   |7          |13:20:00                 |14:25:00               |150812438|5536             |6          |2016-09-30 13:23:16|2016-09-30 15:01:26|12.86599445      |77.59177789       |Kalena Agrahara                           |0            |412     |71            |Friday   |9    |2016|1475223599           |8780421     |2016-09-30 13:49:59|\n",
      "|3037       |29325   |7          |13:20:00                 |14:25:00               |150812438|109              |7          |2016-09-30 13:23:16|2016-09-30 15:01:26|12.87085012      |77.59337516       |Loyola School                             |0            |566     |82            |Friday   |9    |2016|1475223669           |8781042     |2016-09-30 13:51:09|\n",
      "|3037       |29325   |7          |13:20:00                 |14:25:00               |150812438|110              |8          |2016-09-30 13:23:16|2016-09-30 15:01:26|12.87470064      |77.59466015       |Meenakshi Temple                          |0            |436     |63            |Friday   |9    |2016|1475223729           |8781396     |2016-09-30 13:52:09|\n",
      "|3037       |29325   |7          |13:20:00                 |14:25:00               |150812438|111              |9          |2016-09-30 13:23:16|2016-09-30 15:01:26|12.88135098      |77.59588443       |Hulimavu Gate                             |0            |767     |106           |Friday   |9    |2016|1475223868           |8782255     |2016-09-30 13:54:28|\n",
      "|3037       |29325   |7          |13:20:00                 |14:25:00               |150812438|112              |10         |2016-09-30 13:23:16|2016-09-30 15:01:26|12.88726392      |77.59686118       |BPL                                       |0            |666     |111           |Friday   |9    |2016|1475224047           |8782927     |2016-09-30 13:57:27|\n",
      "|3037       |29325   |7          |13:20:00                 |14:25:00               |150812438|113              |11         |2016-09-30 13:23:16|2016-09-30 15:01:26|12.89062758      |77.59802821       |Arakere Gate                              |0            |391     |121           |Friday   |9    |2016|1475224108           |8783179     |2016-09-30 13:58:28|\n",
      "|3037       |29325   |7          |13:20:00                 |14:25:00               |150812438|114              |12         |2016-09-30 13:23:16|2016-09-30 15:01:26|12.8927024       |77.5987824        |HSBC                                      |0            |245     |50            |Friday   |9    |2016|1475224346           |8783551     |2016-09-30 14:02:26|\n",
      "|3037       |29325   |7          |13:20:00                 |14:25:00               |150812438|115              |13         |2016-09-30 13:23:16|2016-09-30 15:01:26|12.89591686      |77.59954375       |IIM Apollo                                |0            |367     |60            |Friday   |9    |2016|1475224376           |8783795     |2016-09-30 14:02:56|\n",
      "|3037       |29325   |7          |13:20:00                 |14:25:00               |150812438|116              |14         |2016-09-30 13:23:16|2016-09-30 15:01:26|12.90016624      |77.60079178       |Bilekahalli                               |0            |493     |96            |Friday   |9    |2016|1475224455           |8784342     |2016-09-30 14:04:15|\n",
      "|3037       |29325   |7          |13:20:00                 |14:25:00               |150812438|117              |15         |2016-09-30 13:23:16|2016-09-30 15:01:26|12.90771344      |77.60031173       |JP Nagara 3rd Phase                       |0            |902     |201           |Friday   |9    |2016|1475224705           |8785133     |2016-09-30 14:08:25|\n",
      "|3037       |29325   |7          |13:20:00                 |14:25:00               |150812438|778              |16         |2016-09-30 13:23:16|2016-09-30 15:01:26|12.91359167      |77.59972833       |MICO Layout Checkpost Gopalan mall        |0            |653     |112           |Friday   |9    |2016|1475224854           |8785821     |2016-09-30 14:10:54|\n",
      "|3037       |29325   |7          |13:20:00                 |14:25:00               |150812438|120              |17         |2016-09-30 13:23:16|2016-09-30 15:01:26|12.91938495      |77.59999955       |Gurappanapalya                            |0            |647     |83            |Friday   |9    |2016|1475224944           |8786516     |2016-09-30 14:12:24|\n",
      "|3037       |29325   |7          |13:20:00                 |14:25:00               |150812438|122              |18         |2016-09-30 13:23:16|2016-09-30 15:01:26|12.92668624      |77.60038036       |Ananda Ashrama                            |0            |804     |131           |Friday   |9    |2016|1475225093           |8787233     |2016-09-30 14:14:53|\n",
      "|3037       |29325   |7          |13:20:00                 |14:25:00               |150812438|3645             |19         |2016-09-30 13:23:16|2016-09-30 15:01:26|12.93713934      |77.60114082       |Bengaluru Dairy Circle                    |0            |1187    |205           |Friday   |9    |2016|1475225352           |8788570     |2016-09-30 14:19:12|\n",
      "|3037       |29325   |7          |13:20:00                 |14:25:00               |150812438|54               |20         |2016-09-30 13:23:16|2016-09-30 15:01:26|12.93868165      |77.59831884       |Nimhans Hospital                          |0            |372     |53            |Friday   |9    |2016|null                 |null        |null               |\n",
      "|3037       |29325   |7          |13:20:00                 |14:25:00               |150812438|55               |21         |2016-09-30 13:23:16|2016-09-30 15:01:26|12.94382951      |77.59709837       |Lakkasandra                               |0            |597     |89            |Friday   |9    |2016|null                 |null        |null               |\n",
      "|3037       |29325   |7          |13:20:00                 |14:25:00               |150812438|56               |22         |2016-09-30 13:23:16|2016-09-30 15:01:26|12.9467426       |77.59607302       |12th Cross Wilson Garden                  |0            |413     |102           |Friday   |9    |2016|null                 |null        |null               |\n",
      "|3037       |29325   |7          |13:20:00                 |14:25:00               |150812438|57               |23         |2016-09-30 13:23:16|2016-09-30 15:01:26|12.95021269      |77.5963872        |Wilson Garden Police Station              |0            |526     |101           |Friday   |9    |2016|1475225661           |8790428     |2016-09-30 14:24:21|\n",
      "|3037       |29325   |7          |13:20:00                 |14:25:00               |150812438|10005            |24         |2016-09-30 13:23:16|2016-09-30 15:01:26|12.95357523      |77.59213328       |STN Dummy Stop                            |0            |598     |116           |Friday   |9    |2016|1475225800           |8790969     |2016-09-30 14:26:40|\n",
      "|3037       |29325   |7          |13:20:00                 |14:25:00               |150812438|8208             |25         |2016-09-30 13:23:16|2016-09-30 15:01:26|12.95407122      |77.59227611       |SNT Connector                             |0            |20      |1             |Friday   |9    |2016|1475225821           |8791083     |2016-09-30 14:27:01|\n",
      "|3037       |29325   |7          |13:20:00                 |14:25:00               |150812438|64               |26         |2016-09-30 13:23:16|2016-09-30 15:01:26|12.95459258      |77.5925092        |Shanthinagara TTMC                        |0            |120     |8             |Friday   |9    |2016|1475225831           |8791083     |2016-09-30 14:27:11|\n",
      "|3037       |29325   |7          |13:20:00                 |14:25:00               |150812438|8205             |27         |2016-09-30 13:23:16|2016-09-30 15:01:26|12.95546118      |77.59233513       |SNT Connector                             |0            |70      |5             |Friday   |9    |2016|1475225861           |8791287     |2016-09-30 14:27:41|\n",
      "|3037       |29325   |7          |13:20:00                 |14:25:00               |150812438|10006            |28         |2016-09-30 13:23:16|2016-09-30 15:01:26|12.95564219      |77.59202466       |Shanthinagara TTMC Dummy                  |0            |60      |4             |Friday   |9    |2016|1475225861           |8791287     |2016-09-30 14:27:41|\n",
      "|3037       |29325   |7          |13:20:00                 |14:25:00               |150812438|8332             |29         |2016-09-30 13:23:16|2016-09-30 15:01:26|12.95839791      |77.59310425       |KH Road                                   |0            |329     |53            |Friday   |9    |2016|1475225951           |8791639     |2016-09-30 14:29:11|\n",
      "|3037       |29325   |7          |13:20:00                 |14:25:00               |150812438|6016             |30         |2016-09-30 13:23:16|2016-09-30 15:01:26|12.96477656      |77.59647575       |Richmond Circle (PF Office Under Fly Over)|0            |889     |215           |Friday   |9    |2016|1475226250           |8792449     |2016-09-30 14:34:10|\n",
      "|3037       |29325   |7          |13:20:00                 |14:25:00               |150812438|8379             |31         |2016-09-30 13:23:16|2016-09-30 15:01:26|12.9678313       |77.59084046       |Pallavi Talkies                           |0            |774     |119           |Friday   |9    |2016|1475226379           |8793152     |2016-09-30 14:36:19|\n",
      "|3037       |29325   |7          |13:20:00                 |14:25:00               |150812438|193              |32         |2016-09-30 13:23:16|2016-09-30 15:01:26|12.96841334      |77.5866793        |Corporation                               |0            |605     |203           |Friday   |9    |2016|1475226688           |8793812     |2016-09-30 14:41:28|\n",
      "|3037       |29325   |7          |13:20:00                 |14:25:00               |150812438|195              |33         |2016-09-30 13:23:16|2016-09-30 15:01:26|12.97267471      |77.58176117       |Mysore Bank                               |0            |714     |96            |Friday   |9    |2016|1475226797           |8794913     |2016-09-30 14:43:17|\n",
      "|3037       |29325   |7          |13:20:00                 |14:25:00               |150812438|8407             |34         |2016-09-30 13:23:16|2016-09-30 15:01:26|12.97740047      |77.57420137       |KBS Dummy Bus Stop                        |0            |1050    |259           |Friday   |9    |2016|1475226956           |8796011     |2016-09-30 14:45:56|\n",
      "|3037       |29325   |7          |13:20:00                 |14:25:00               |150812438|5849             |35         |2016-09-30 13:23:16|2016-09-30 15:01:26|12.97753944      |77.57407732       |KBS Connector                             |0            |30      |2             |Friday   |9    |2016|1475226956           |8796011     |2016-09-30 14:45:56|\n",
      "|3037       |29325   |7          |13:20:00                 |14:25:00               |150812438|8456             |36         |2016-09-30 13:23:16|2016-09-30 15:01:26|12.97750611      |77.57291257       |Kempegowda Bus Station                    |0            |120     |8             |Friday   |9    |2016|1475226976           |8796118     |2016-09-30 14:46:16|\n",
      "|3037       |20239   |8          |14:30:00                 |15:40:00               |150812438|160              |1          |2016-09-30 14:47:16|2016-09-30 16:12:14|12.97751447      |77.57178022       |Kempegowda Bus Station                    |0            |0       |0             |Friday   |9    |2016|1475227036           |8796230     |2016-09-30 14:47:16|\n",
      "|3037       |20239   |8          |14:30:00                 |15:40:00               |150812438|5841             |2          |2016-09-30 14:47:16|2016-09-30 16:12:14|12.97752049      |77.57099145       |KBS Connector                             |0            |80      |6             |Friday   |9    |2016|1475227728           |8796804     |2016-09-30 14:58:48|\n",
      "|3037       |20239   |8          |14:30:00                 |15:40:00               |150812438|33               |3          |2016-09-30 14:47:16|2016-09-30 16:12:14|12.97944962      |77.57116351       |KBS Connector2                            |0            |210     |15            |Friday   |9    |2016|1475227817           |8797017     |2016-09-30 15:00:17|\n",
      "|3037       |20239   |8          |14:30:00                 |15:40:00               |150812438|5840             |4          |2016-09-30 14:47:16|2016-09-30 16:12:14|12.97989895      |77.57139177       |KBS connector3                            |0            |60      |4             |Friday   |9    |2016|1475227827           |8797128     |2016-09-30 15:00:27|\n",
      "|3037       |20239   |8          |14:30:00                 |15:40:00               |150812438|8455             |5          |2016-09-30 14:47:16|2016-09-30 16:12:14|12.980274        |77.57191479       |KBS Dummy Bus Stand                       |0            |70      |5             |Friday   |9    |2016|1475227837           |8797237     |2016-09-30 15:00:37|\n",
      "|3037       |20239   |8          |14:30:00                 |15:40:00               |150812438|124              |6          |2016-09-30 14:47:16|2016-09-30 16:12:14|12.97705906      |77.58594229       |Maharanis College                         |0            |1634    |207           |Friday   |9    |2016|1475227997           |8798713     |2016-09-30 15:03:17|\n",
      "|3037       |20239   |8          |14:30:00                 |15:40:00               |150812438|61               |7          |2016-09-30 14:47:16|2016-09-30 16:12:14|12.97472667      |77.58691          |KR Circle                                 |0            |357     |85            |Friday   |9    |2016|1475228067           |8799055     |2016-09-30 15:04:27|\n",
      "|3037       |20239   |8          |14:30:00                 |15:40:00               |150812438|126              |8          |2016-09-30 14:47:16|2016-09-30 16:12:14|12.96962529      |77.58719475       |St Marthas Hospital                       |0            |577     |110           |Friday   |9    |2016|1475228156           |8799692     |2016-09-30 15:05:56|\n",
      "|3037       |20239   |8          |14:30:00                 |15:40:00               |150812438|158              |9          |2016-09-30 14:47:16|2016-09-30 16:12:14|12.96483149      |77.58802933       |Corporation                               |0            |764     |209           |Friday   |9    |2016|1475228336           |8800398     |2016-09-30 15:08:56|\n",
      "|3037       |20239   |8          |14:30:00                 |15:40:00               |150812438|159              |10         |2016-09-30 14:47:16|2016-09-30 16:12:14|12.962654        |77.59096469       |Subbaiah Circle                           |0            |418     |104           |Friday   |9    |2016|1475228495           |8800821     |2016-09-30 15:11:35|\n",
      "|3037       |20239   |8          |14:30:00                 |15:40:00               |150812438|353              |11         |2016-09-30 14:47:16|2016-09-30 16:12:14|12.95772479      |77.5931178        |KH Road                                   |0            |961     |180           |Friday   |9    |2016|1475228654           |8801681     |2016-09-30 15:14:14|\n",
      "|3037       |20239   |8          |14:30:00                 |15:40:00               |150812438|8579             |12         |2016-09-30 14:47:16|2016-09-30 16:12:14|12.95578074      |77.59218692       |SNT Dummy Stop                            |0            |239     |43            |Friday   |9    |2016|1475228715           |8802051     |2016-09-30 15:15:15|\n",
      "|3037       |20239   |8          |14:30:00                 |15:40:00               |150812438|8206             |13         |2016-09-30 14:47:16|2016-09-30 16:12:14|12.95482338      |77.59284607       |SNT Connector                             |0            |90      |6             |Friday   |9    |2016|1475228734           |8802155     |2016-09-30 15:15:34|\n",
      "|3037       |20239   |8          |14:30:00                 |15:40:00               |150812438|9005             |14         |2016-09-30 14:47:16|2016-09-30 16:12:14|12.95513379      |77.59271465       |SNT Dummy Stop                            |0            |10      |1             |Friday   |9    |2016|1475228724           |8802051     |2016-09-30 15:15:24|\n",
      "|3037       |20239   |8          |14:30:00                 |15:40:00               |150812438|9993             |15         |2016-09-30 14:47:16|2016-09-30 16:12:14|12.9549214       |77.59262882       |SNT Connector                             |0            |30      |1             |Friday   |9    |2016|1475228724           |8802051     |2016-09-30 15:15:24|\n",
      "|3037       |20239   |8          |14:30:00                 |15:40:00               |150812438|8207             |16         |2016-09-30 14:47:16|2016-09-30 16:12:14|12.95452669      |77.5927388        |Shanthinagara TTMC                        |0            |40      |2             |Friday   |9    |2016|1475228734           |8802155     |2016-09-30 15:15:34|\n",
      "|3037       |20239   |8          |14:30:00                 |15:40:00               |150812438|9996             |17         |2016-09-30 14:47:16|2016-09-30 16:12:14|12.95397776      |77.59250879       |SNT Connector                             |0            |70      |4             |Friday   |9    |2016|1475228824           |8802436     |2016-09-30 15:17:04|\n",
      "|3037       |20239   |8          |14:30:00                 |15:40:00               |150812438|8577             |18         |2016-09-30 14:47:16|2016-09-30 16:12:14|12.95350007      |77.59235524       |SNT Dummy Stop                            |0            |50      |3             |Friday   |9    |2016|1475228824           |8802436     |2016-09-30 15:17:04|\n",
      "|3037       |20239   |8          |14:30:00                 |15:40:00               |150812438|65               |19         |2016-09-30 14:47:16|2016-09-30 16:12:14|12.95140577      |77.59521987       |Wilson Garden Police Station              |0            |389     |77            |Friday   |9    |2016|1475228884           |8802674     |2016-09-30 15:18:04|\n",
      "|3037       |20239   |8          |14:30:00                 |15:40:00               |150812438|66               |20         |2016-09-30 14:47:16|2016-09-30 16:12:14|12.94715044      |77.59805714       |10th Cross Wilson Garden                  |0            |668     |134           |Friday   |9    |2016|1475229023           |8803351     |2016-09-30 15:20:23|\n",
      "|3037       |20239   |8          |14:30:00                 |15:40:00               |150812438|67               |21         |2016-09-30 14:47:16|2016-09-30 16:12:14|12.94308106      |77.59743743       |Lakkasandra                               |0            |534     |117           |Friday   |9    |2016|1475229203           |8803911     |2016-09-30 15:23:23|\n",
      "|3037       |20239   |8          |14:30:00                 |15:40:00               |150812438|351              |22         |2016-09-30 14:47:16|2016-09-30 16:12:14|12.93978245      |77.59789382       |Nimhans Hospital                          |0            |371     |59            |Friday   |9    |2016|1475229262           |8804234     |2016-09-30 15:24:22|\n",
      "|3037       |20239   |8          |14:30:00                 |15:40:00               |150812438|76               |23         |2016-09-30 14:47:16|2016-09-30 16:12:14|12.93563843      |77.60147069       |Bengaluru Dairy Circle                    |0            |671     |85            |Friday   |9    |2016|1475229371           |8805020     |2016-09-30 15:26:11|\n",
      "|3037       |20239   |8          |14:30:00                 |15:40:00               |150812438|77               |24         |2016-09-30 14:47:16|2016-09-30 16:12:14|12.92725733      |77.6006887        |Ananda Ashrama                            |0            |1010    |189           |Friday   |9    |2016|1475229501           |8805963     |2016-09-30 15:28:21|\n",
      "|3037       |20239   |8          |14:30:00                 |15:40:00               |150812438|9108             |25         |2016-09-30 14:47:16|2016-09-30 16:12:14|12.91903206      |77.60018259       |Gurappanapalya                            |0            |915     |167           |Friday   |9    |2016|1475229690           |8806847     |2016-09-30 15:31:30|\n",
      "|3037       |20239   |8          |14:30:00                 |15:40:00               |150812438|80               |26         |2016-09-30 14:47:16|2016-09-30 16:12:14|12.91394928      |77.60005281       |MICO Layout Checkpost Gopalan mall        |0            |563     |64            |Friday   |9    |2016|1475229780           |8807396     |2016-09-30 15:33:00|\n",
      "|3037       |20239   |8          |14:30:00                 |15:40:00               |150812438|81               |27         |2016-09-30 14:47:16|2016-09-30 16:12:14|12.9081699       |77.60041709       |JP Nagara 3rd Phase                       |0            |853     |172           |Friday   |9    |2016|1475229899           |8808020     |2016-09-30 15:34:59|\n",
      "|3037       |20239   |8          |14:30:00                 |15:40:00               |150812438|83               |28         |2016-09-30 14:47:16|2016-09-30 16:12:14|12.90077134      |77.60110669       |Bilekahalli                               |0            |1392    |292           |Friday   |9    |2016|1475230158           |8808814     |2016-09-30 15:39:18|\n",
      "|3037       |20239   |8          |14:30:00                 |15:40:00               |150812438|84               |29         |2016-09-30 14:47:16|2016-09-30 16:12:14|12.8960723       |77.59976967       |IIM Apollo                                |0            |543     |78            |Friday   |9    |2016|1475230238           |8809395     |2016-09-30 15:40:38|\n",
      "|3037       |20239   |8          |14:30:00                 |15:40:00               |150812438|85               |30         |2016-09-30 14:47:16|2016-09-30 16:12:14|12.89226171      |77.59883917       |HSBC                                      |0            |367     |46            |Friday   |9    |2016|1475230288           |8809797     |2016-09-30 15:41:28|\n",
      "|3037       |20239   |8          |14:30:00                 |15:40:00               |150812438|86               |31         |2016-09-30 14:47:16|2016-09-30 16:12:14|12.89059818      |77.59822328       |Arakere Gate                              |0            |265     |77            |Friday   |9    |2016|1475230327           |8810014     |2016-09-30 15:42:07|\n",
      "|3037       |20239   |8          |14:30:00                 |15:40:00               |150812438|87               |32         |2016-09-30 14:47:16|2016-09-30 16:12:14|12.88738986      |77.59702001       |BPL                                       |0            |381     |63            |Friday   |9    |2016|1475230398           |8810488     |2016-09-30 15:43:18|\n",
      "|3037       |20239   |8          |14:30:00                 |15:40:00               |150812438|88               |33         |2016-09-30 14:47:16|2016-09-30 16:12:14|12.88075471      |77.59590891       |Hulimavu Gate                             |0            |748     |112           |Friday   |9    |2016|1475230487           |8811128     |2016-09-30 15:44:47|\n",
      "|3037       |20239   |8          |14:30:00                 |15:40:00               |150812438|89               |34         |2016-09-30 14:47:16|2016-09-30 16:12:14|12.87470152      |77.59482719       |Meenakshi Temple                          |0            |684     |93            |Friday   |9    |2016|1475230636           |8811917     |2016-09-30 15:47:16|\n",
      "|3037       |20239   |8          |14:30:00                 |15:40:00               |150812438|90               |35         |2016-09-30 14:47:16|2016-09-30 16:12:14|12.87099571      |77.5935365        |Loyola School                             |0            |455     |74            |Friday   |9    |2016|1475230686           |8812405     |2016-09-30 15:48:06|\n",
      "|3037       |20239   |8          |14:30:00                 |15:40:00               |150812438|91               |36         |2016-09-30 14:47:16|2016-09-30 16:12:14|12.86613423      |77.59190793       |Kalena Agrahara                           |0            |550     |75            |Friday   |9    |2016|1475230726           |8812843     |2016-09-30 15:48:46|\n",
      "|3037       |20239   |8          |14:30:00                 |15:40:00               |150812438|92               |37         |2016-09-30 14:47:16|2016-09-30 16:12:14|12.86238129      |77.59061983       |Himagiri                                  |0            |440     |66            |Friday   |9    |2016|1475230796           |8813297     |2016-09-30 15:49:56|\n",
      "|3037       |20239   |8          |14:30:00                 |15:40:00               |150812438|93               |38         |2016-09-30 14:47:16|2016-09-30 16:12:14|12.85668319      |77.58893224       |Gottigere                                 |0            |667     |155           |Friday   |9    |2016|1475230886           |8813973     |2016-09-30 15:51:26|\n",
      "|3037       |20239   |8          |14:30:00                 |15:40:00               |150812438|94               |39         |2016-09-30 14:47:16|2016-09-30 16:12:14|12.85046022      |77.58837133       |T John College                            |0            |695     |108           |Friday   |9    |2016|1475230995           |8814604     |2016-09-30 15:53:15|\n",
      "|3037       |20239   |8          |14:30:00                 |15:40:00               |150812438|95               |40         |2016-09-30 14:47:16|2016-09-30 16:12:14|12.84623151      |77.58826256       |Basavanapura Gate                         |0            |464     |72            |Friday   |9    |2016|1475231827           |8815940     |2016-09-30 16:07:07|\n",
      "|3037       |20239   |8          |14:30:00                 |15:40:00               |150812438|10094            |41         |2016-09-30 14:47:16|2016-09-30 16:12:14|12.84678291      |77.59320349       |Basavanapura Church                       |0            |679     |177           |Friday   |9    |2016|null                 |null        |null               |\n",
      "|3037       |29325   |9          |16:10:00                 |17:20:00               |150812438|10093            |1          |2016-09-30 15:57:44|2016-09-30 17:30:01|12.84670707      |77.59313107       |Basavanapura Church                       |0            |0       |0             |Friday   |9    |2016|null                 |null        |null               |\n",
      "|3037       |29325   |9          |16:10:00                 |17:20:00               |150812438|105              |2          |2016-09-30 15:57:44|2016-09-30 17:30:01|12.84620008      |77.58817751       |Basavanapura Gate                         |0            |681     |191           |Friday   |9    |2016|1475231827           |8815940     |2016-09-30 16:07:07|\n",
      "|3037       |29325   |9          |16:10:00                 |17:20:00               |150812438|106              |3          |2016-09-30 15:57:44|2016-09-30 17:30:01|12.84959604      |77.58821708       |T John College                            |0            |361     |60            |Friday   |9    |2016|1475232075           |8816302     |2016-09-30 16:11:15|\n",
      "|3037       |29325   |9          |16:10:00                 |17:20:00               |150812438|107              |4          |2016-09-30 15:57:44|2016-09-30 17:30:01|12.85620471      |77.58875119       |Gottigere                                 |0            |737     |148           |Friday   |9    |2016|1475232206           |8817003     |2016-09-30 16:13:26|\n",
      "|3037       |29325   |9          |16:10:00                 |17:20:00               |150812438|108              |5          |2016-09-30 15:57:44|2016-09-30 17:30:01|12.86248422      |77.59055583       |Himagiri                                  |0            |731     |167           |Friday   |9    |2016|1475232345           |8817699     |2016-09-30 16:15:45|\n",
      "|3037       |29325   |9          |16:10:00                 |17:20:00               |150812438|5536             |6          |2016-09-30 15:57:44|2016-09-30 17:30:01|12.86599445      |77.59177789       |Kalena Agrahara                           |0            |412     |71            |Friday   |9    |2016|1475232405           |8818048     |2016-09-30 16:16:45|\n",
      "|3037       |29325   |9          |16:10:00                 |17:20:00               |150812438|109              |7          |2016-09-30 15:57:44|2016-09-30 17:30:01|12.87085012      |77.59337516       |Loyola School                             |0            |566     |82            |Friday   |9    |2016|1475232514           |8818690     |2016-09-30 16:18:34|\n",
      "|3037       |29325   |9          |16:10:00                 |17:20:00               |150812438|110              |8          |2016-09-30 15:57:44|2016-09-30 17:30:01|12.87470064      |77.59466015       |Meenakshi Temple                          |0            |436     |63            |Friday   |9    |2016|1475232574           |8819084     |2016-09-30 16:19:34|\n",
      "|3037       |29325   |9          |16:10:00                 |17:20:00               |150812438|111              |9          |2016-09-30 15:57:44|2016-09-30 17:30:01|12.88135098      |77.59588443       |Hulimavu Gate                             |0            |767     |106           |Friday   |9    |2016|1475232714           |8819823     |2016-09-30 16:21:54|\n",
      "|3037       |29325   |9          |16:10:00                 |17:20:00               |150812438|112              |10         |2016-09-30 15:57:44|2016-09-30 17:30:01|12.88726392      |77.59686118       |BPL                                       |0            |666     |111           |Friday   |9    |2016|1475232833           |8820540     |2016-09-30 16:23:53|\n",
      "|3037       |29325   |9          |16:10:00                 |17:20:00               |150812438|113              |11         |2016-09-30 15:57:44|2016-09-30 17:30:01|12.89062758      |77.59802821       |Arakere Gate                              |0            |391     |121           |Friday   |9    |2016|1475232952           |8820896     |2016-09-30 16:25:52|\n",
      "|3037       |29325   |9          |16:10:00                 |17:20:00               |150812438|114              |12         |2016-09-30 15:57:44|2016-09-30 17:30:01|12.8927024       |77.5987824        |HSBC                                      |0            |245     |50            |Friday   |9    |2016|1475233172           |8821140     |2016-09-30 16:29:32|\n",
      "|3037       |29325   |9          |16:10:00                 |17:20:00               |150812438|115              |13         |2016-09-30 15:57:44|2016-09-30 17:30:01|12.89591686      |77.59954375       |IIM Apollo                                |0            |367     |60            |Friday   |9    |2016|1475233211           |8821508     |2016-09-30 16:30:11|\n",
      "|3037       |29325   |9          |16:10:00                 |17:20:00               |150812438|116              |14         |2016-09-30 15:57:44|2016-09-30 17:30:01|12.90016624      |77.60079178       |Bilekahalli                               |0            |493     |96            |Friday   |9    |2016|1475233301           |8821969     |2016-09-30 16:31:41|\n",
      "|3037       |29325   |9          |16:10:00                 |17:20:00               |150812438|117              |15         |2016-09-30 15:57:44|2016-09-30 17:30:01|12.90771344      |77.60031173       |JP Nagara 3rd Phase                       |0            |902     |201           |Friday   |9    |2016|1475233481           |8822895     |2016-09-30 16:34:41|\n",
      "|3037       |29325   |9          |16:10:00                 |17:20:00               |150812438|778              |16         |2016-09-30 15:57:44|2016-09-30 17:30:01|12.91359167      |77.59972833       |MICO Layout Checkpost Gopalan mall        |0            |653     |112           |Friday   |9    |2016|1475233699           |8823483     |2016-09-30 16:38:19|\n",
      "|3037       |29325   |9          |16:10:00                 |17:20:00               |150812438|120              |17         |2016-09-30 15:57:44|2016-09-30 17:30:01|12.91938495      |77.59999955       |Gurappanapalya                            |0            |647     |83            |Friday   |9    |2016|1475233799           |8824165     |2016-09-30 16:39:59|\n",
      "|3037       |29325   |9          |16:10:00                 |17:20:00               |150812438|122              |18         |2016-09-30 15:57:44|2016-09-30 17:30:01|12.92668624      |77.60038036       |Ananda Ashrama                            |0            |804     |131           |Friday   |9    |2016|1475234009           |8824924     |2016-09-30 16:43:29|\n",
      "|3037       |29325   |9          |16:10:00                 |17:20:00               |150812438|3645             |19         |2016-09-30 15:57:44|2016-09-30 17:30:01|12.93713934      |77.60114082       |Bengaluru Dairy Circle                    |0            |1187    |205           |Friday   |9    |2016|1475234298           |8826103     |2016-09-30 16:48:18|\n",
      "|3037       |29325   |9          |16:10:00                 |17:20:00               |150812438|54               |20         |2016-09-30 15:57:44|2016-09-30 17:30:01|12.93868165      |77.59831884       |Nimhans Hospital                          |0            |372     |53            |Friday   |9    |2016|1475234337           |8826468     |2016-09-30 16:48:57|\n",
      "|3037       |29325   |9          |16:10:00                 |17:20:00               |150812438|55               |21         |2016-09-30 15:57:44|2016-09-30 17:30:01|12.94382951      |77.59709837       |Lakkasandra                               |0            |597     |89            |Friday   |9    |2016|1475234447           |8827101     |2016-09-30 16:50:47|\n",
      "|3037       |29325   |9          |16:10:00                 |17:20:00               |150812438|56               |22         |2016-09-30 15:57:44|2016-09-30 17:30:01|12.9467426       |77.59607302       |12th Cross Wilson Garden                  |0            |413     |102           |Friday   |9    |2016|1475234546           |8827422     |2016-09-30 16:52:26|\n",
      "|3037       |29325   |9          |16:10:00                 |17:20:00               |150812438|57               |23         |2016-09-30 15:57:44|2016-09-30 17:30:01|12.95021269      |77.5963872        |Wilson Garden Police Station              |0            |526     |101           |Friday   |9    |2016|1475234626           |8828018     |2016-09-30 16:53:46|\n",
      "|3037       |29325   |9          |16:10:00                 |17:20:00               |150812438|10005            |24         |2016-09-30 15:57:44|2016-09-30 17:30:01|12.95357523      |77.59213328       |STN Dummy Stop                            |0            |598     |116           |Friday   |9    |2016|1475234726           |8828610     |2016-09-30 16:55:26|\n",
      "|3037       |29325   |9          |16:10:00                 |17:20:00               |150812438|8208             |25         |2016-09-30 15:57:44|2016-09-30 17:30:01|12.95407122      |77.59227611       |SNT Connector                             |0            |20      |1             |Friday   |9    |2016|1475234736           |8828610     |2016-09-30 16:55:36|\n",
      "|3037       |29325   |9          |16:10:00                 |17:20:00               |150812438|64               |26         |2016-09-30 15:57:44|2016-09-30 17:30:01|12.95459258      |77.5925092        |Shanthinagara TTMC                        |0            |120     |8             |Friday   |9    |2016|1475234756           |8828711     |2016-09-30 16:55:56|\n",
      "|3037       |29325   |9          |16:10:00                 |17:20:00               |150812438|8205             |27         |2016-09-30 15:57:44|2016-09-30 17:30:01|12.95546118      |77.59233513       |SNT Connector                             |0            |70      |5             |Friday   |9    |2016|1475234806           |8828902     |2016-09-30 16:56:46|\n",
      "|3037       |29325   |9          |16:10:00                 |17:20:00               |150812438|10006            |28         |2016-09-30 15:57:44|2016-09-30 17:30:01|12.95564219      |77.59202466       |Shanthinagara TTMC Dummy                  |0            |60      |4             |Friday   |9    |2016|1475234806           |8828902     |2016-09-30 16:56:46|\n",
      "|3037       |29325   |9          |16:10:00                 |17:20:00               |150812438|8332             |29         |2016-09-30 15:57:44|2016-09-30 17:30:01|12.95839791      |77.59310425       |KH Road                                   |0            |329     |53            |Friday   |9    |2016|1475234866           |8829249     |2016-09-30 16:57:46|\n",
      "|3037       |29325   |9          |16:10:00                 |17:20:00               |150812438|6016             |30         |2016-09-30 15:57:44|2016-09-30 17:30:01|12.96477656      |77.59647575       |Richmond Circle (PF Office Under Fly Over)|0            |889     |215           |Friday   |9    |2016|1475235244           |8829967     |2016-09-30 17:04:04|\n",
      "|3037       |29325   |9          |16:10:00                 |17:20:00               |150812438|8379             |31         |2016-09-30 15:57:44|2016-09-30 17:30:01|12.9678313       |77.59084046       |Pallavi Talkies                           |0            |774     |119           |Friday   |9    |2016|1475235343           |8830776     |2016-09-30 17:05:43|\n",
      "|3037       |29325   |9          |16:10:00                 |17:20:00               |150812438|193              |32         |2016-09-30 15:57:44|2016-09-30 17:30:01|12.96841334      |77.5866793        |Corporation                               |0            |605     |203           |Friday   |9    |2016|1475235553           |8831348     |2016-09-30 17:09:13|\n",
      "|3037       |29325   |9          |16:10:00                 |17:20:00               |150812438|195              |33         |2016-09-30 15:57:44|2016-09-30 17:30:01|12.97267471      |77.58176117       |Mysore Bank                               |0            |714     |96            |Friday   |9    |2016|1475235623           |8832089     |2016-09-30 17:10:23|\n",
      "|3037       |29325   |9          |16:10:00                 |17:20:00               |150812438|8407             |34         |2016-09-30 15:57:44|2016-09-30 17:30:01|12.97740047      |77.57420137       |KBS Dummy Bus Stop                        |0            |1050    |259           |Friday   |9    |2016|1475235861           |8833167     |2016-09-30 17:14:21|\n",
      "|3037       |29325   |9          |16:10:00                 |17:20:00               |150812438|5849             |35         |2016-09-30 15:57:44|2016-09-30 17:30:01|12.97753944      |77.57407732       |KBS Connector                             |0            |30      |2             |Friday   |9    |2016|1475235861           |8833167     |2016-09-30 17:14:21|\n",
      "|3037       |29325   |9          |16:10:00                 |17:20:00               |150812438|8456             |36         |2016-09-30 15:57:44|2016-09-30 17:30:01|12.97750611      |77.57291257       |Kempegowda Bus Station                    |0            |120     |8             |Friday   |9    |2016|1475235891           |8833278     |2016-09-30 17:14:51|\n",
      "|3037       |20239   |10         |17:25:00                 |18:35:00               |150812438|160              |1          |2016-09-30 17:25:21|2016-09-30 19:04:57|12.97751447      |77.57178022       |Kempegowda Bus Station                    |0            |0       |0             |Friday   |9    |2016|1475236529           |8833500     |2016-09-30 17:25:29|\n",
      "|3037       |20239   |10         |17:25:00                 |18:35:00               |150812438|5841             |2          |2016-09-30 17:25:21|2016-09-30 19:04:57|12.97752049      |77.57099145       |KBS Connector                             |0            |80      |6             |Friday   |9    |2016|1475236598           |8833602     |2016-09-30 17:26:38|\n",
      "|3037       |20239   |10         |17:25:00                 |18:35:00               |150812438|33               |3          |2016-09-30 17:25:21|2016-09-30 19:04:57|12.97944962      |77.57116351       |KBS Connector2                            |0            |210     |15            |Friday   |9    |2016|1475236668           |8833717     |2016-09-30 17:27:48|\n",
      "|3037       |20239   |10         |17:25:00                 |18:35:00               |150812438|5840             |4          |2016-09-30 17:25:21|2016-09-30 19:04:57|12.97989895      |77.57139177       |KBS connector3                            |0            |60      |4             |Friday   |9    |2016|1475236678           |8833847     |2016-09-30 17:27:58|\n",
      "|3037       |20239   |10         |17:25:00                 |18:35:00               |150812438|8455             |5          |2016-09-30 17:25:21|2016-09-30 19:04:57|12.980274        |77.57191479       |KBS Dummy Bus Stand                       |0            |70      |5             |Friday   |9    |2016|1475236688           |8833980     |2016-09-30 17:28:08|\n",
      "|3037       |20239   |10         |17:25:00                 |18:35:00               |150812438|124              |6          |2016-09-30 17:25:21|2016-09-30 19:04:57|12.97705906      |77.58594229       |Maharanis College                         |0            |1634    |207           |Friday   |9    |2016|1475236868           |8835473     |2016-09-30 17:31:08|\n",
      "|3037       |20239   |10         |17:25:00                 |18:35:00               |150812438|61               |7          |2016-09-30 17:25:21|2016-09-30 19:04:57|12.97472667      |77.58691          |KR Circle                                 |0            |357     |85            |Friday   |9    |2016|1475236987           |8835809     |2016-09-30 17:33:07|\n",
      "|3037       |20239   |10         |17:25:00                 |18:35:00               |150812438|126              |8          |2016-09-30 17:25:21|2016-09-30 19:04:57|12.96962529      |77.58719475       |St Marthas Hospital                       |0            |577     |110           |Friday   |9    |2016|1475237087           |8836505     |2016-09-30 17:34:47|\n",
      "|3037       |20239   |10         |17:25:00                 |18:35:00               |150812438|158              |9          |2016-09-30 17:25:21|2016-09-30 19:04:57|12.96483149      |77.58802933       |Corporation                               |0            |764     |209           |Friday   |9    |2016|1475237296           |8837154     |2016-09-30 17:38:16|\n",
      "|3037       |20239   |10         |17:25:00                 |18:35:00               |150812438|159              |10         |2016-09-30 17:25:21|2016-09-30 19:04:57|12.962654        |77.59096469       |Subbaiah Circle                           |0            |418     |104           |Friday   |9    |2016|1475237405           |8837608     |2016-09-30 17:40:05|\n",
      "|3037       |20239   |10         |17:25:00                 |18:35:00               |150812438|353              |11         |2016-09-30 17:25:21|2016-09-30 19:04:57|12.95772479      |77.5931178        |KH Road                                   |0            |961     |180           |Friday   |9    |2016|1475237685           |8838527     |2016-09-30 17:44:45|\n",
      "|3037       |20239   |10         |17:25:00                 |18:35:00               |150812438|8579             |12         |2016-09-30 17:25:21|2016-09-30 19:04:57|12.95578074      |77.59218692       |SNT Dummy Stop                            |0            |239     |43            |Friday   |9    |2016|1475237734           |8838743     |2016-09-30 17:45:34|\n",
      "|3037       |20239   |10         |17:25:00                 |18:35:00               |150812438|8206             |13         |2016-09-30 17:25:21|2016-09-30 19:04:57|12.95482338      |77.59284607       |SNT Connector                             |0            |90      |6             |Friday   |9    |2016|1475237754           |8838848     |2016-09-30 17:45:54|\n",
      "|3037       |20239   |10         |17:25:00                 |18:35:00               |150812438|9005             |14         |2016-09-30 17:25:21|2016-09-30 19:04:57|12.95513379      |77.59271465       |SNT Dummy Stop                            |0            |10      |1             |Friday   |9    |2016|1475237754           |8838848     |2016-09-30 17:45:54|\n",
      "|3037       |20239   |10         |17:25:00                 |18:35:00               |150812438|9993             |15         |2016-09-30 17:25:21|2016-09-30 19:04:57|12.9549214       |77.59262882       |SNT Connector                             |0            |30      |1             |Friday   |9    |2016|1475237754           |8838848     |2016-09-30 17:45:54|\n",
      "|3037       |20239   |10         |17:25:00                 |18:35:00               |150812438|8207             |16         |2016-09-30 17:25:21|2016-09-30 19:04:57|12.95452669      |77.5927388        |Shanthinagara TTMC                        |0            |40      |2             |Friday   |9    |2016|1475237764           |8838848     |2016-09-30 17:46:04|\n",
      "|3037       |20239   |10         |17:25:00                 |18:35:00               |150812438|9996             |17         |2016-09-30 17:25:21|2016-09-30 19:04:57|12.95397776      |77.59250879       |SNT Connector                             |0            |70      |4             |Friday   |9    |2016|1475237814           |8838950     |2016-09-30 17:46:54|\n",
      "|3037       |20239   |10         |17:25:00                 |18:35:00               |150812438|8577             |18         |2016-09-30 17:25:21|2016-09-30 19:04:57|12.95350007      |77.59235524       |SNT Dummy Stop                            |0            |50      |3             |Friday   |9    |2016|1475237864           |8839084     |2016-09-30 17:47:44|\n",
      "|3037       |20239   |10         |17:25:00                 |18:35:00               |150812438|65               |19         |2016-09-30 17:25:21|2016-09-30 19:04:57|12.95140577      |77.59521987       |Wilson Garden Police Station              |0            |389     |77            |Friday   |9    |2016|1475237923           |8839405     |2016-09-30 17:48:43|\n",
      "|3037       |20239   |10         |17:25:00                 |18:35:00               |150812438|66               |20         |2016-09-30 17:25:21|2016-09-30 19:04:57|12.94715044      |77.59805714       |10th Cross Wilson Garden                  |0            |668     |134           |Friday   |9    |2016|1475238062           |8839981     |2016-09-30 17:51:02|\n",
      "|3037       |20239   |10         |17:25:00                 |18:35:00               |150812438|67               |21         |2016-09-30 17:25:21|2016-09-30 19:04:57|12.94308106      |77.59743743       |Lakkasandra                               |0            |534     |117           |Friday   |9    |2016|1475238242           |8840545     |2016-09-30 17:54:02|\n",
      "|3037       |20239   |10         |17:25:00                 |18:35:00               |150812438|351              |22         |2016-09-30 17:25:21|2016-09-30 19:04:57|12.93978245      |77.59789382       |Nimhans Hospital                          |0            |371     |59            |Friday   |9    |2016|1475238351           |8840885     |2016-09-30 17:55:51|\n",
      "|3037       |20239   |10         |17:25:00                 |18:35:00               |150812438|76               |23         |2016-09-30 17:25:21|2016-09-30 19:04:57|12.93563843      |77.60147069       |Bengaluru Dairy Circle                    |0            |671     |85            |Friday   |9    |2016|1475238491           |8841593     |2016-09-30 17:58:11|\n",
      "|3037       |20239   |10         |17:25:00                 |18:35:00               |150812438|77               |24         |2016-09-30 17:25:21|2016-09-30 19:04:57|12.92725733      |77.6006887        |Ananda Ashrama                            |0            |1010    |189           |Friday   |9    |2016|1475238889           |8842467     |2016-09-30 18:04:49|\n",
      "|3037       |20239   |10         |17:25:00                 |18:35:00               |150812438|9108             |25         |2016-09-30 17:25:21|2016-09-30 19:04:57|12.91903206      |77.60018259       |Gurappanapalya                            |0            |915     |167           |Friday   |9    |2016|1475239159           |8843376     |2016-09-30 18:09:19|\n",
      "|3037       |20239   |10         |17:25:00                 |18:35:00               |150812438|80               |26         |2016-09-30 17:25:21|2016-09-30 19:04:57|12.91394928      |77.60005281       |MICO Layout Checkpost Gopalan mall        |0            |563     |64            |Friday   |9    |2016|1475239248           |8843979     |2016-09-30 18:10:48|\n",
      "|3037       |20239   |10         |17:25:00                 |18:35:00               |150812438|81               |27         |2016-09-30 17:25:21|2016-09-30 19:04:57|12.9081699       |77.60041709       |JP Nagara 3rd Phase                       |0            |853     |172           |Friday   |9    |2016|1475239488           |8844657     |2016-09-30 18:14:48|\n",
      "|3037       |20239   |10         |17:25:00                 |18:35:00               |150812438|83               |28         |2016-09-30 17:25:21|2016-09-30 19:04:57|12.90077134      |77.60110669       |Bilekahalli                               |0            |1392    |292           |Friday   |9    |2016|1475239776           |8845463     |2016-09-30 18:19:36|\n",
      "|3037       |20239   |10         |17:25:00                 |18:35:00               |150812438|84               |29         |2016-09-30 17:25:21|2016-09-30 19:04:57|12.8960723       |77.59976967       |IIM Apollo                                |0            |543     |78            |Friday   |9    |2016|1475239906           |8845923     |2016-09-30 18:21:46|\n",
      "|3037       |20239   |10         |17:25:00                 |18:35:00               |150812438|85               |30         |2016-09-30 17:25:21|2016-09-30 19:04:57|12.89226171      |77.59883917       |HSBC                                      |0            |367     |46            |Friday   |9    |2016|1475240005           |8846376     |2016-09-30 18:23:25|\n",
      "|3037       |20239   |10         |17:25:00                 |18:35:00               |150812438|86               |31         |2016-09-30 17:25:21|2016-09-30 19:04:57|12.89059818      |77.59822328       |Arakere Gate                              |0            |265     |77            |Friday   |9    |2016|1475240135           |8846590     |2016-09-30 18:25:35|\n",
      "|3037       |20239   |10         |17:25:00                 |18:35:00               |150812438|87               |32         |2016-09-30 17:25:21|2016-09-30 19:04:57|12.88738986      |77.59702001       |BPL                                       |0            |381     |63            |Friday   |9    |2016|1475240234           |8846943     |2016-09-30 18:27:14|\n",
      "|3037       |20239   |10         |17:25:00                 |18:35:00               |150812438|88               |33         |2016-09-30 17:25:21|2016-09-30 19:04:57|12.88075471      |77.59590891       |Hulimavu Gate                             |0            |748     |112           |Friday   |9    |2016|1475240454           |8847639     |2016-09-30 18:30:54|\n",
      "|3037       |20239   |10         |17:25:00                 |18:35:00               |150812438|89               |34         |2016-09-30 17:25:21|2016-09-30 19:04:57|12.87470152      |77.59482719       |Meenakshi Temple                          |0            |684     |93            |Friday   |9    |2016|1475240613           |8848367     |2016-09-30 18:33:33|\n",
      "|3037       |20239   |10         |17:25:00                 |18:35:00               |150812438|90               |35         |2016-09-30 17:25:21|2016-09-30 19:04:57|12.87099571      |77.5935365        |Loyola School                             |0            |455     |74            |Friday   |9    |2016|1475241201           |8848802     |2016-09-30 18:43:21|\n",
      "|3037       |20239   |10         |17:25:00                 |18:35:00               |150812438|91               |36         |2016-09-30 17:25:21|2016-09-30 19:04:57|12.86613423      |77.59190793       |Kalena Agrahara                           |0            |550     |75            |Friday   |9    |2016|null                 |null        |null               |\n",
      "|3037       |20239   |10         |17:25:00                 |18:35:00               |150812438|92               |37         |2016-09-30 17:25:21|2016-09-30 19:04:57|12.86238129      |77.59061983       |Himagiri                                  |0            |440     |66            |Friday   |9    |2016|null                 |null        |null               |\n",
      "|3037       |20239   |10         |17:25:00                 |18:35:00               |150812438|93               |38         |2016-09-30 17:25:21|2016-09-30 19:04:57|12.85668319      |77.58893224       |Gottigere                                 |0            |667     |155           |Friday   |9    |2016|null                 |null        |null               |\n",
      "|3037       |20239   |10         |17:25:00                 |18:35:00               |150812438|94               |39         |2016-09-30 17:25:21|2016-09-30 19:04:57|12.85046022      |77.58837133       |T John College                            |0            |695     |108           |Friday   |9    |2016|null                 |null        |null               |\n",
      "|3037       |20239   |10         |17:25:00                 |18:35:00               |150812438|95               |40         |2016-09-30 17:25:21|2016-09-30 19:04:57|12.84623151      |77.58826256       |Basavanapura Gate                         |0            |464     |72            |Friday   |9    |2016|null                 |null        |null               |\n",
      "|3037       |20239   |10         |17:25:00                 |18:35:00               |150812438|10094            |41         |2016-09-30 17:25:21|2016-09-30 19:04:57|12.84678291      |77.59320349       |Basavanapura Church                       |0            |679     |177           |Friday   |9    |2016|null                 |null        |null               |\n",
      "|3037       |29325   |11         |18:40:00                 |19:00:00               |150812438|10093            |1          |2016-09-30 18:50:01|2016-09-30 19:05:14|12.84670707      |77.59313107       |Basavanapura Church                       |0            |0       |0             |Friday   |9    |2016|null                 |null        |null               |\n",
      "|3037       |29325   |11         |18:40:00                 |19:00:00               |150812438|105              |2          |2016-09-30 18:50:01|2016-09-30 19:05:14|12.84620008      |77.58817751       |Basavanapura Gate                         |0            |681     |191           |Friday   |9    |2016|null                 |null        |null               |\n",
      "|3037       |29325   |11         |18:40:00                 |19:00:00               |150812438|106              |3          |2016-09-30 18:50:01|2016-09-30 19:05:14|12.84959604      |77.58821708       |T John College                            |0            |361     |60            |Friday   |9    |2016|null                 |null        |null               |\n",
      "|3037       |29325   |11         |18:40:00                 |19:00:00               |150812438|107              |4          |2016-09-30 18:50:01|2016-09-30 19:05:14|12.85620471      |77.58875119       |Gottigere                                 |0            |737     |148           |Friday   |9    |2016|null                 |null        |null               |\n",
      "|3037       |29325   |11         |18:40:00                 |19:00:00               |150812438|108              |5          |2016-09-30 18:50:01|2016-09-30 19:05:14|12.86248422      |77.59055583       |Himagiri                                  |0            |731     |167           |Friday   |9    |2016|null                 |null        |null               |\n",
      "|3037       |29325   |11         |18:40:00                 |19:00:00               |150812438|5536             |6          |2016-09-30 18:50:01|2016-09-30 19:05:14|12.86599445      |77.59177789       |Kalena Agrahara                           |0            |412     |71            |Friday   |9    |2016|null                 |null        |null               |\n",
      "|3037       |29325   |11         |18:40:00                 |19:00:00               |150812438|109              |7          |2016-09-30 18:50:01|2016-09-30 19:05:14|12.87085012      |77.59337516       |Loyola School                             |0            |566     |82            |Friday   |9    |2016|null                 |null        |null               |\n",
      "|3037       |29325   |11         |18:40:00                 |19:00:00               |150812438|110              |8          |2016-09-30 18:50:01|2016-09-30 19:05:14|12.87470064      |77.59466015       |Meenakshi Temple                          |0            |436     |63            |Friday   |9    |2016|null                 |null        |null               |\n",
      "|3037       |29325   |11         |18:40:00                 |19:00:00               |150812438|111              |9          |2016-09-30 18:50:01|2016-09-30 19:05:14|12.88135098      |77.59588443       |Hulimavu Gate                             |0            |767     |106           |Friday   |9    |2016|null                 |null        |null               |\n",
      "|3037       |29325   |11         |18:40:00                 |19:00:00               |150812438|112              |10         |2016-09-30 18:50:01|2016-09-30 19:05:14|12.88726392      |77.59686118       |BPL                                       |0            |666     |111           |Friday   |9    |2016|null                 |null        |null               |\n",
      "|3037       |29325   |11         |18:40:00                 |19:00:00               |150812438|113              |11         |2016-09-30 18:50:01|2016-09-30 19:05:14|12.89062758      |77.59802821       |Arakere Gate                              |0            |391     |121           |Friday   |9    |2016|null                 |null        |null               |\n",
      "|3037       |29325   |11         |18:40:00                 |19:00:00               |150812438|114              |12         |2016-09-30 18:50:01|2016-09-30 19:05:14|12.8927024       |77.5987824        |HSBC                                      |0            |245     |50            |Friday   |9    |2016|null                 |null        |null               |\n",
      "|3037       |29325   |11         |18:40:00                 |19:00:00               |150812438|115              |13         |2016-09-30 18:50:01|2016-09-30 19:05:14|12.89591686      |77.59954375       |IIM Apollo                                |0            |367     |60            |Friday   |9    |2016|null                 |null        |null               |\n",
      "|3037       |29325   |11         |18:40:00                 |19:00:00               |150812438|116              |14         |2016-09-30 18:50:01|2016-09-30 19:05:14|12.90016624      |77.60079178       |Bilekahalli                               |0            |493     |96            |Friday   |9    |2016|null                 |null        |null               |\n",
      "|3037       |29325   |11         |18:40:00                 |19:00:00               |150812438|117              |15         |2016-09-30 18:50:01|2016-09-30 19:05:14|12.90771344      |77.60031173       |JP Nagara 3rd Phase                       |0            |902     |201           |Friday   |9    |2016|null                 |null        |null               |\n",
      "|3037       |29325   |11         |18:40:00                 |19:00:00               |150812438|778              |16         |2016-09-30 18:50:01|2016-09-30 19:05:14|12.91359167      |77.59972833       |MICO Layout Checkpost Gopalan mall        |0            |653     |112           |Friday   |9    |2016|null                 |null        |null               |\n",
      "|3037       |20241   |12         |19:00:00                 |19:13:00               |150812438|80               |25         |2016-09-30 18:50:18|2016-09-30 19:05:23|12.91394928      |77.60005281       |MICO Layout Checkpost Gopalan mall        |0            |0       |0             |Friday   |9    |2016|null                 |null        |null               |\n",
      "|3037       |20241   |12         |19:00:00                 |19:13:00               |150812438|81               |26         |2016-09-30 18:50:18|2016-09-30 19:05:23|12.9081699       |77.60041709       |JP Nagara 3rd Phase                       |0            |853     |172           |Friday   |9    |2016|null                 |null        |null               |\n",
      "|3037       |20241   |12         |19:00:00                 |19:13:00               |150812438|83               |27         |2016-09-30 18:50:18|2016-09-30 19:05:23|12.90077134      |77.60110669       |Bilekahalli                               |0            |1392    |292           |Friday   |9    |2016|null                 |null        |null               |\n",
      "|3037       |20241   |12         |19:00:00                 |19:13:00               |150812438|84               |28         |2016-09-30 18:50:18|2016-09-30 19:05:23|12.8960723       |77.59976967       |IIM Apollo                                |0            |543     |78            |Friday   |9    |2016|null                 |null        |null               |\n",
      "|3037       |20241   |12         |19:00:00                 |19:13:00               |150812438|85               |29         |2016-09-30 18:50:18|2016-09-30 19:05:23|12.89226171      |77.59883917       |HSBC                                      |0            |449     |67            |Friday   |9    |2016|null                 |null        |null               |\n",
      "|3037       |20241   |12         |19:00:00                 |19:13:00               |150812438|86               |30         |2016-09-30 18:50:18|2016-09-30 19:05:23|12.89059818      |77.59822328       |Arakere Gate                              |0            |208     |62            |Friday   |9    |2016|null                 |null        |null               |\n",
      "|3037       |20241   |12         |19:00:00                 |19:13:00               |150812438|87               |31         |2016-09-30 18:50:18|2016-09-30 19:05:23|12.88738986      |77.59702001       |BPL                                       |0            |356     |56            |Friday   |9    |2016|null                 |null        |null               |\n",
      "|3037       |20241   |12         |19:00:00                 |19:13:00               |150812438|88               |32         |2016-09-30 18:50:18|2016-09-30 19:05:23|12.88075471      |77.59590891       |Hulimavu Gate                             |0            |748     |112           |Friday   |9    |2016|null                 |null        |null               |\n",
      "|3037       |20241   |12         |19:00:00                 |19:13:00               |150812438|89               |33         |2016-09-30 18:50:18|2016-09-30 19:05:23|12.87470152      |77.59482719       |Meenakshi Temple                          |0            |684     |93            |Friday   |9    |2016|null                 |null        |null               |\n",
      "|3037       |20241   |12         |19:00:00                 |19:13:00               |150812438|90               |34         |2016-09-30 18:50:18|2016-09-30 19:05:23|12.87099571      |77.5935365        |Loyola School                             |0            |862     |149           |Friday   |9    |2016|null                 |null        |null               |\n",
      "|3037       |20241   |12         |19:00:00                 |19:13:00               |150812438|10795            |35         |2016-09-30 18:50:18|2016-09-30 19:05:23|12.87021282      |77.5857047        |Depot-34 Gate                             |0            |927     |144           |Friday   |9    |2016|1475241639           |8849685     |2016-09-30 18:50:39|\n",
      "|3037       |9196    |13         |19:13:00                 |19:15:00               |150812438|10795            |1          |2016-09-30 18:51:19|2016-09-30 19:07:18|12.87021282      |77.5857047        |Depot-34 Gate                             |1            |0       |0             |Friday   |9    |2016|null                 |null        |null               |\n",
      "|3037       |9196    |13         |19:13:00                 |19:15:00               |150812438|10381            |2          |2016-09-30 18:51:19|2016-09-30 19:07:18|12.87132242      |77.58583613       |Dummy                                     |1            |123     |30            |Friday   |9    |2016|null                 |null        |null               |\n",
      "|3037       |9196    |13         |19:13:00                 |19:15:00               |150812438|10380            |3          |2016-09-30 18:51:19|2016-09-30 19:07:18|12.87155318      |77.5860849        |Connector                                 |1            |40      |2             |Friday   |9    |2016|null                 |null        |null               |\n",
      "|3037       |9196    |13         |19:13:00                 |19:15:00               |150812438|1291             |4          |2016-09-30 18:51:19|2016-09-30 19:07:18|12.87193846      |77.58619537       |Depot-34 (Kottanur)                       |1            |40      |3             |Friday   |9    |2016|null                 |null        |null               |\n",
      "+-----------+--------+-----------+-------------------------+-----------------------+---------+-----------------+-----------+-------------------+-------------------+-----------------+------------------+------------------------------------------+-------------+--------+--------------+---------+-----+----+---------------------+------------+-------------------+\n",
      "\n"
     ]
    }
   ],
   "source": [
    "schedule_geo_entry_df.show(400, truncate=False)"
   ]
  },
  {
   "cell_type": "code",
   "execution_count": 472,
   "metadata": {
    "collapsed": false
   },
   "outputs": [],
   "source": [
    "schedule_geo_entry_df.coalesce(1).write.option(\"header\",\"true\")\\\n",
    "    .csv(\"lalit/bmtc_project/staging/features/\"+dateLit+\"/bus_stops_arrival_time_enriched_features_start_end_stops\")"
   ]
  }
 ],
 "metadata": {
  "kernelspec": {
   "display_name": "Python 2",
   "language": "python",
   "name": "python2"
  },
  "language_info": {
   "codemirror_mode": {
    "name": "ipython",
    "version": 2
   },
   "file_extension": ".py",
   "mimetype": "text/x-python",
   "name": "python",
   "nbconvert_exporter": "python",
   "pygments_lexer": "ipython2",
   "version": "2.7.13"
  }
 },
 "nbformat": 4,
 "nbformat_minor": 2
}
